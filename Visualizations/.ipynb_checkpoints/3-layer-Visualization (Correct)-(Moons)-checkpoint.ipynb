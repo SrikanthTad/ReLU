{
 "cells": [
  {
   "cell_type": "code",
   "execution_count": 1,
   "metadata": {},
   "outputs": [],
   "source": [
    "import torch\n",
    "import numpy as np\n",
    "import pandas as pd\n",
    "from sklearn.preprocessing import StandardScaler\n",
    "from sklearn.model_selection import StratifiedShuffleSplit\n",
    "from torch.utils.data import Dataset ,DataLoader\n",
    "import matplotlib.pyplot as plt\n",
    "import seaborn as sns\n",
    "from sklearn import cluster, datasets\n",
    "from sklearn.datasets import make_moons\n",
    "import sklearn.datasets\n",
    "from matplotlib.axis import Axis\n",
    "\n",
    "%run functions2D-2.ipynb"
   ]
  },
  {
   "cell_type": "code",
   "execution_count": 2,
   "metadata": {},
   "outputs": [
    {
     "data": {
      "image/png": "[encoded data removed]",
      "text/plain": [
       "<Figure size 432x288 with 1 Axes>"
      ]
     },
     "metadata": {
      "needs_background": "light"
     },
     "output_type": "display_data"
    }
   ],
   "source": [
    "X, y = sklearn.datasets.make_moons(30,noise=0.2)\n",
    "x0,y0 = seperatePoints1(X)\n",
    "# plt.figure(figsize=(7, 7), dpi=80)\n",
    "plt.scatter(X[:, 0][y==1],X[:, 1][y==1], color='b',s=10)\n",
    "plt.scatter(X[:, 0][y==0],X[:, 1][y==0], color='orange',s = 10)\n",
    "palette = {0:\"tab:cyan\",\n",
    "           1:\"tab:blue\", \n",
    "           }\n",
    "\n",
    "# #first 2 hyperplanes\n",
    "# s = 10\n",
    "# ss = np.linspace(-s,10, 1000)\n",
    "# x11,y11 =Generate_Line([bias1[0],weights1[0][0],weights1[0][1]],ss)\n",
    "# x12,y12 = Generate_Line([bias1[1],weights1[1][0],weights1[1][1]],ss)\n",
    "# x21,y21 = Generate_Line([weights21[0][2],weights21[0][0],weights21[0][1]],ss)\n",
    "# x22,y22 = Generate_Line([weights21[1][2],weights21[1][0],weights21[1][1]],ss)\n",
    "\n",
    "# sns.set(rc = {'figure.figsize':(7,7)})\n",
    "# sns.scatterplot(x0,y0, hue = y, palette=palette )\n",
    "# plt.plot(x11, y11, c =\"g\")\n",
    "# plt.plot(x12, y12, c =\"g\")\n",
    "# plt.plot(x21, y21, c =\"b\")\n",
    "# plt.plot(x22, y22, c =\"b\")"
   ]
  },
  {
   "cell_type": "code",
   "execution_count": 3,
   "metadata": {},
   "outputs": [],
   "source": [
    "# weights1 = np.array(([ 0.1709, -1.4208],\n",
    "#         [-1.4226,  0.4582]))\n",
    "\n",
    "# weights2 = np.array(([ 0.3553, -6.6704],\n",
    "#         [ 2.0627,  0.0557]))\n",
    "\n",
    "# weights3 = np.array(([33.2752,  1.7034]))\n",
    "\n",
    "# weights4 = np.array(([ 1.8658, -5.7419]))\n",
    "\n",
    "# bias1 = np.array(([2.0679, 2.3309]))\n",
    "\n",
    "# bias2 = np.array(([0.4675, 1.3831]))\n",
    "\n",
    "# bias3 = np.array(([-6.6507]))\n",
    "\n",
    "# bias4 = np.array(([-2.0942]))\n",
    "\n",
    "# W3 = np.array(([33.2752,  1.7034,-6.6507],[0,0,1]))\n",
    "\n",
    "\n",
    "\n",
    "\n",
    "# weights1 = np.array((\n",
    "#     [ 0.0269, -2.1142],\n",
    "#         [-1.1578, -0.8678]))\n",
    "\n",
    "# weights2 = np.array((\n",
    "#     [ 3.0911, -1.2621],\n",
    "#         [-1.8091, -0.8782]))\n",
    "\n",
    "# weights3 = np.array(([ 1.5716],\n",
    "#         [-0.2452]))\n",
    "\n",
    "\n",
    "\n",
    "# bias1 = np.array(([1.2557, 0.1670]))\n",
    "\n",
    "# bias2 = np.array(([ 0.0099, -1.7314]))\n",
    "\n",
    "# bias3 = np.array(([-4.0600]))"
   ]
  },
  {
   "cell_type": "code",
   "execution_count": 4,
   "metadata": {},
   "outputs": [],
   "source": [
    "# weights31 = np.matmul(W3,(np.matmul(W2, W1)))\n",
    "# s = 10\n",
    "# ss = np.linspace(-s,20, 1000)\n",
    "# x31,y31 =Generate_Line([weights31[1][0],weights31[1][1],weights31[1][2]],ss)\n",
    "\n",
    "# l5 = np.array(([x31[0],y31[0]],[x31[len(x31)-1],y31[len(y31)-1] ]))"
   ]
  },
  {
   "cell_type": "code",
   "execution_count": 5,
   "metadata": {},
   "outputs": [],
   "source": [
    "\n",
    "# W1 = matrix_from_weights(weights1, bias1)\n",
    "# W2 = matrix_from_weights(weights2, bias2)\n",
    "# # W3 = matrix_from_weights(weights3, bias3)\n",
    "# W1_ = np.linalg.inv(W1)\n",
    "# W2_ = np.linalg.inv(W2)\n",
    "# # W3_ = np.linalg.inv(W3)\n",
    "# W21 = W2.dot(W1)\n",
    "# W21_ = np.linalg.inv(W21)\n",
    "# print(W1)\n",
    "\n",
    "# # W31 = W3.dot(W21)\n",
    "# # print(W31)\n",
    "# # W31_ = np.linalg.inv(W31)"
   ]
  },
  {
   "cell_type": "code",
   "execution_count": 6,
   "metadata": {},
   "outputs": [
    {
     "name": "stdout",
     "output_type": "stream",
     "text": [
      "[[ 4 -1  1]\n",
      " [ 0  0  1]]\n"
     ]
    }
   ],
   "source": [
    "weights1 = np.array(([1, 0],\n",
    "        [4,-4]))\n",
    "\n",
    "weights2 = np.array(([-1,0],\n",
    "        [ 0,-0.5]))\n",
    "\n",
    "weights3 = np.array(([4, -1]))\n",
    "\n",
    "\n",
    "\n",
    "bias1 = np.array(([0,4]))\n",
    "\n",
    "bias2 = np.array(([1,5.5]))\n",
    "\n",
    "bias3 = np.array(([1]))\n",
    "\n",
    "\n",
    "W1 = matrix_from_weights(weights1, bias1)\n",
    "W2 = matrix_from_weights(weights2, bias2)\n",
    "W3 = np.array(([4,  -1, 1],[0,0,1]))\n",
    "W1_ = np.linalg.inv(W1)\n",
    "W2_ = np.linalg.inv(W2)\n",
    "W21 = W2.dot(W1)\n",
    "W21_ = np.linalg.inv(W21)\n",
    "\n",
    "# W31 = W3.dot(W21)\n",
    "print(W3)\n",
    "W31 = np.matmul(W3,(np.matmul(W2, W1)))\n",
    "s = 10\n",
    "ss = np.linspace(-s,20, 1000)\n",
    "x31,y31 =Generate_Line([W31[1][0],W31[1][1],W31[1][2]],ss)\n",
    "\n",
    "l5 = np.array(([x31[0],y31[0]],[x31[len(x31)-1],y31[len(y31)-1] ]))"
   ]
  },
  {
   "cell_type": "markdown",
   "metadata": {},
   "source": [
    "# Layer-1"
   ]
  },
  {
   "cell_type": "code",
   "execution_count": 7,
   "metadata": {},
   "outputs": [
    {
     "name": "stderr",
     "output_type": "stream",
     "text": [
      "/users/kent/stadiset/anaconda3/envs/cnn/lib/python3.9/site-packages/seaborn/_decorators.py:36: FutureWarning: Pass the following variables as keyword args: x, y. From version 0.12, the only valid positional argument will be `data`, and passing other arguments without an explicit keyword will result in an error or misinterpretation.\n",
      "  warnings.warn(\n"
     ]
    },
    {
     "data": {
      "text/plain": [
       "<AxesSubplot:>"
      ]
     },
     "execution_count": 7,
     "metadata": {},
     "output_type": "execute_result"
    },
    {
     "data": {
      "image/png": "[encoded data removed]",
      "text/plain": [
       "<Figure size 720x720 with 1 Axes>"
      ]
     },
     "metadata": {},
     "output_type": "display_data"
    }
   ],
   "source": [
    "#transform the original data\n",
    "\n",
    "t1 = applyWeights_on_original(W1,X)\n",
    "\n",
    "#get points\n",
    "x1,y1 = seperatePoints(t1)\n",
    "\n",
    "\n",
    "#Apply ReLU\n",
    "x1r = applyRelu(x1)\n",
    "y1r = applyRelu(y1)\n",
    "\n",
    "palette2 = {0:\"tab:orange\",\n",
    "           1:\"tab:gray\", \n",
    "           }\n",
    "sns.set(rc = {'figure.figsize':(10,10)})\n",
    "sns.scatterplot(x1,y1, hue = y, palette = palette)\n"
   ]
  },
  {
   "cell_type": "code",
   "execution_count": 8,
   "metadata": {},
   "outputs": [],
   "source": [
    "#view ReLU points\n",
    "\n",
    "# sns.set(rc = {'figure.figsize':(5,5)})\n",
    "# sns.scatterplot(x1r,y1r, hue = data['class'], palette = palette)"
   ]
  },
  {
   "cell_type": "code",
   "execution_count": 9,
   "metadata": {},
   "outputs": [],
   "source": [
    "#coordinates in original space\n",
    "t1f = makeList1(x1r,y1r)\n",
    "t1reversed = applyWeightsInverse(W1, t1f)\n",
    "x1o,y1o = seperatePoints(t1reversed)\n",
    "\n",
    "t1r_set = makeList(x1o,y1o) #relu in original space\n",
    "original_set = makeList(x0,y0) #original data points without transformation"
   ]
  },
  {
   "cell_type": "code",
   "execution_count": 10,
   "metadata": {},
   "outputs": [],
   "source": [
    "#first 2 hyperplanes\n",
    "s = 5\n",
    "ss = np.linspace(-s,5, 2000)\n",
    "x11,y11 =Generate_Line([bias1[0],weights1[0][0],weights1[0][1]],ss)\n",
    "x12,y12 = Generate_Line([bias1[1],weights1[1][0],weights1[1][1]],ss)\n",
    "\n",
    "line1 = makeList1(x11,y11)\n",
    "line2 = makeList1(x12,y12)\n",
    "\n"
   ]
  },
  {
   "cell_type": "code",
   "execution_count": 11,
   "metadata": {},
   "outputs": [],
   "source": [
    "\n",
    "t11,f11 = check_pos_l1(W1,line1)\n",
    "t12,f12 = check_pos_l1(W1,line2)\n"
   ]
  },
  {
   "cell_type": "code",
   "execution_count": 12,
   "metadata": {},
   "outputs": [],
   "source": [
    "#solid and dotted lines\n",
    "x11s, y11s = seperatePoints(t11)\n",
    "x11d, y11d = seperatePoints(f11)\n",
    "x12s, y12s = seperatePoints(t12)\n",
    "x12d, y12d = seperatePoints(f12)"
   ]
  },
  {
   "cell_type": "code",
   "execution_count": 13,
   "metadata": {},
   "outputs": [
    {
     "name": "stderr",
     "output_type": "stream",
     "text": [
      "/users/kent/stadiset/anaconda3/envs/cnn/lib/python3.9/site-packages/seaborn/_decorators.py:36: FutureWarning: Pass the following variables as keyword args: x, y. From version 0.12, the only valid positional argument will be `data`, and passing other arguments without an explicit keyword will result in an error or misinterpretation.\n",
      "  warnings.warn(\n",
      "/users/kent/stadiset/anaconda3/envs/cnn/lib/python3.9/site-packages/seaborn/_decorators.py:36: FutureWarning: Pass the following variables as keyword args: x, y. From version 0.12, the only valid positional argument will be `data`, and passing other arguments without an explicit keyword will result in an error or misinterpretation.\n",
      "  warnings.warn(\n"
     ]
    },
    {
     "data": {
      "image/png": "[encoded data removed]",
      "text/plain": [
       "<Figure size 504x504 with 1 Axes>"
      ]
     },
     "metadata": {},
     "output_type": "display_data"
    }
   ],
   "source": [
    "#first 2 hyperplanes\n",
    "s = 5\n",
    "ss = np.linspace(-s,5, 2000)\n",
    "x11,y11 =Generate_Line([bias1[0],weights1[0][0],weights1[0][1]],ss)\n",
    "x12,y12 = Generate_Line([bias1[1],weights1[1][0],weights1[1][1]],ss)\n",
    "palette2 = {0:\"tab:purple\",\n",
    "           1:\"tab:pink\", \n",
    "           }\n",
    "\n",
    "sns.set(rc = {'figure.figsize':(7,7)})\n",
    "# plt.locator_params('y', nbins=100)\n",
    "#     # adjust the x axis scale.\n",
    "# plt.locator_params('x', nbins=100)\n",
    "sns.scatterplot(x1o,y1o, hue = y, palette = palette2)\n",
    "sns.scatterplot(x0,y0, hue = y, palette = palette)\n",
    "plt.plot(x11s, y11s, c =\"g\")\n",
    "plt.plot(x11d, y11d, c =\"g\",linestyle = '--')\n",
    "plt.plot(x12s, y12s, c =\"g\")\n",
    "plt.plot(x12d, y12d, c =\"g\",linestyle = '--')\n",
    "# plt.xticks(range(1, 5))\n",
    "# plt.yticks(range(1, 5))\n",
    "for i in range(len(original_set)):\n",
    "        plt.arrow(original_set[i][0],original_set[i][1], t1r_set[i][0]-original_set[i][0],t1r_set[i][1]-original_set[i][1] , \n",
    "                  head_width=0.1, head_length=0.01)"
   ]
  },
  {
   "cell_type": "markdown",
   "metadata": {},
   "source": [
    "# Layer-2"
   ]
  },
  {
   "cell_type": "code",
   "execution_count": 14,
   "metadata": {},
   "outputs": [
    {
     "name": "stdout",
     "output_type": "stream",
     "text": [
      "[[-1.   0.   1. ]\n",
      " [-2.   2.   3.5]\n",
      " [ 0.   0.   1. ]]\n"
     ]
    }
   ],
   "source": [
    "# t1f = makeList1(x1r,y1r)\n",
    "t2 = applyWeights(W2,t1f) #apply on 1st layer relu'd points\n",
    "#get points\n",
    "x2,y2 = seperatePoints(t2)\n",
    "#Apply ReLU\n",
    "x2r = applyRelu(x2)\n",
    "y2r = applyRelu(y2)\n",
    "# sns.scatterplot(x2,y2, hue = data['class'], palette = palette)\n",
    "\n",
    "weights21 = W2.dot(W1)\n",
    "W21 = weights21\n",
    "print(weights21)\n",
    "\n",
    "\n",
    "#coordinates in original space\n",
    "t2f = makeList1(x2r,y2r)\n",
    "\n",
    "\n",
    "t2reversed = applyWeightsInverse(W21, t2f)\n",
    "x2o,y2o = seperatePoints(t2reversed)\n",
    "t2r_set = makeList(x2o,y2o)\n",
    "\n",
    "#Layer 2 hyperplanes\n",
    "s = 1\n",
    "ss = np.linspace(-s,10, 5000)\n",
    "x21,y21 = Generate_Line([weights21[0][2],weights21[0][0],weights21[0][1]],ss)\n",
    "x22,y22 = Generate_Line([weights21[1][2],weights21[1][0],weights21[1][1]],ss)\n",
    "\n",
    "line3 = makeList1(x21,y21)\n",
    "line4 = makeList1(x22,y22)\n",
    "\n",
    "def check_pos_previous(weights_matrix,data_ls):\n",
    "    true = []\n",
    "    false = []\n",
    "    ls0=[]\n",
    "    for i in data_ls:\n",
    "        ls0 = applyWeights(weights_matrix,data_ls)\n",
    "    for l,j in zip(data_ls,ls0):\n",
    "        if ((j[0]>=0 and j[1]>=0) or (j[0]==0 and j[1]==0) or (j[0]>=0 and j[1]==0) or (j[1]>=0 and j[0]==0)):\n",
    "            true.append(l)\n",
    "        else:\n",
    "            false.append(l)\n",
    "    return true,false\n",
    "\n",
    "def check_pos_current(weights_matrix,data_ls): #only checks if line is the basis \n",
    "    true = []\n",
    "    false = []\n",
    "    ls0=[]\n",
    "    for i in data_ls:\n",
    "        ls0 = applyWeights(weights_matrix,data_ls)\n",
    "    for l,j in zip(data_ls,ls0):\n",
    "        if ((j[0]==0 and j[1]==0) or (j[0]>=0 and j[1]==0) or (j[1]>=0 and j[0]==0)):\n",
    "            true.append(l)\n",
    "        else:\n",
    "            false.append(l)\n",
    "    return true,false\n",
    "\n",
    "\n"
   ]
  },
  {
   "cell_type": "code",
   "execution_count": 15,
   "metadata": {},
   "outputs": [],
   "source": [
    "t21,f21 = check_pos_previous(W1,line3)\n",
    "t22,f22 = check_pos_previous(W1,line4)"
   ]
  },
  {
   "cell_type": "code",
   "execution_count": 16,
   "metadata": {},
   "outputs": [],
   "source": [
    "tru21,fal21 = check_pos_current(W21,t21)\n",
    "tru22,fal22 = check_pos_current(W21,t22)\n"
   ]
  },
  {
   "cell_type": "code",
   "execution_count": 17,
   "metadata": {},
   "outputs": [],
   "source": [
    "#graph them\n",
    "x21s, y21s = seperatePoints(tru21)\n",
    "x21d, y21d = seperatePoints(fal21)\n",
    "x22s, y22s = seperatePoints(tru22)\n",
    "x22d, y22d = seperatePoints(fal22)"
   ]
  },
  {
   "cell_type": "code",
   "execution_count": 18,
   "metadata": {},
   "outputs": [
    {
     "name": "stderr",
     "output_type": "stream",
     "text": [
      "/users/kent/stadiset/anaconda3/envs/cnn/lib/python3.9/site-packages/seaborn/_decorators.py:36: FutureWarning: Pass the following variables as keyword args: x, y. From version 0.12, the only valid positional argument will be `data`, and passing other arguments without an explicit keyword will result in an error or misinterpretation.\n",
      "  warnings.warn(\n",
      "/users/kent/stadiset/anaconda3/envs/cnn/lib/python3.9/site-packages/seaborn/_decorators.py:36: FutureWarning: Pass the following variables as keyword args: x, y. From version 0.12, the only valid positional argument will be `data`, and passing other arguments without an explicit keyword will result in an error or misinterpretation.\n",
      "  warnings.warn(\n"
     ]
    },
    {
     "data": {
      "image/png": "[encoded data removed]",
      "text/plain": [
       "<Figure size 504x504 with 1 Axes>"
      ]
     },
     "metadata": {},
     "output_type": "display_data"
    }
   ],
   "source": [
    "\n",
    "\n",
    "palette3 = {0:\"tab:green\",\n",
    "           1:\"tab:brown\", \n",
    "           }\n",
    "sns.set(rc = {'figure.figsize':(7,7)})\n",
    "sns.scatterplot(x1o,y1o, hue = y, palette = palette2)\n",
    "sns.scatterplot(x2o,y2o, hue = y, palette = palette3)\n",
    "# sns.scatterplot(x0,y0, hue = y, palette = palette)\n",
    "\n",
    "# plt.locator_params('y', nbins=100)\n",
    "#     # adjust the x axis scale.\n",
    "# plt.locator_params('x', nbins=100)\n",
    "# plt.plot(x21, y21, c =\"pink\")\n",
    "# plt.plot(x22, y22, c =\"pink\")\n",
    "\n",
    "plt.plot(x11s, y11s, c =\"g\")\n",
    "plt.plot(x11d, y11d, c =\"g\",linestyle = '--')\n",
    "plt.plot(x12s, y12s, c =\"g\")\n",
    "plt.plot(x12d, y12d, c =\"g\",linestyle = '--')\n",
    "# plt.plot(x21, y21, c =\"b\")\n",
    "# plt.plot(x22, y22, c =\"b\")\n",
    "# plt.plot(x31, y31, c = \"r\")\n",
    "plt.plot(x21s, y21s, c =\"b\")\n",
    "plt.plot(x21d, y21d, c =\"b\",linestyle = '--')\n",
    "plt.plot(x22s, y22s, c =\"b\")\n",
    "plt.plot(x22d, y22d, c =\"b\",linestyle = '--')\n",
    "# for i in range(len(original_set)):\n",
    "#         plt.arrow(original_set[i][0],original_set[i][1], t1r_set[i][0]-original_set[i][0],t1r_set[i][1]-original_set[i][1] , \n",
    "#                   head_width=0.01, head_length=0.01)\n",
    "for i in range(len(original_set)):\n",
    "        plt.arrow(t1r_set[i][0],t1r_set[i][1], t2r_set[i][0]-t1r_set[i][0],t2r_set[i][1]-t1r_set[i][1] , \n",
    "                  head_width=0.01, head_length=0.01)\n",
    "        \n",
    "        \n"
   ]
  },
  {
   "cell_type": "markdown",
   "metadata": {},
   "source": [
    "# Layer 3"
   ]
  },
  {
   "cell_type": "code",
   "execution_count": null,
   "metadata": {},
   "outputs": [],
   "source": [
    "\n",
    "print(W31)\n",
    "weights31 = W31\n",
    "s = 5\n",
    "ss = np.linspace(-s,5, 1000)\n",
    "x31,y31 =Generate_Line([weights31[0][2],weights31[0][0],weights31[0][1]],ss)\n",
    "line3 = makeList1(x31,y31)\n",
    "\n",
    "l5 = np.array(([x31[0],y31[0]],[x31[len(x31)-1],y31[len(y31)-1] ]))"
   ]
  },
  {
   "cell_type": "code",
   "execution_count": null,
   "metadata": {},
   "outputs": [],
   "source": [
    "t31,f31 = check_pos_previous(W1,line3)\n"
   ]
  },
  {
   "cell_type": "code",
   "execution_count": null,
   "metadata": {},
   "outputs": [],
   "source": [
    "tru31,fal31 = check_pos_previous(W21,t31)\n"
   ]
  },
  {
   "cell_type": "code",
   "execution_count": null,
   "metadata": {},
   "outputs": [],
   "source": [
    "#graph them\n",
    "x31s, y31s = seperatePoints(tru31)\n",
    "x31d, y31d = seperatePoints(fal31)\n"
   ]
  },
  {
   "cell_type": "code",
   "execution_count": null,
   "metadata": {},
   "outputs": [],
   "source": [
    "\n",
    "\n",
    "palette3 = {0:\"tab:green\",\n",
    "           1:\"tab:brown\", \n",
    "           }\n",
    "sns.set(rc = {'figure.figsize':(7,7)})\n",
    "# sns.scatterplot(x1o,y1o, hue = y, palette = palette2)\n",
    "sns.scatterplot(x2o,y2o, hue = y, palette = palette3)\n",
    "# sns.scatterplot(x0,y0, hue = y, palette = palette)\n",
    "\n",
    "# plt.locator_params('y', nbins=100)\n",
    "#     # adjust the x axis scale.\n",
    "# plt.locator_params('x', nbins=100)\n",
    "# plt.plot(x21, y21, c =\"pink\")\n",
    "# plt.plot(x22, y22, c =\"pink\")\n",
    "\n",
    "plt.plot(x11s, y11s, c =\"g\")\n",
    "plt.plot(x11d, y11d, c =\"g\",linestyle = '--')\n",
    "plt.plot(x12s, y12s, c =\"g\")\n",
    "plt.plot(x12d, y12d, c =\"g\",linestyle = '--')\n",
    "# plt.plot(x21, y21, c =\"b\")\n",
    "# plt.plot(x22, y22, c =\"b\")\n",
    "# plt.plot(x31, y31, c = \"r\")\n",
    "\n",
    "plt.plot(x21s, y21s, c =\"b\")\n",
    "plt.plot(x21d, y21d, c =\"b\",linestyle = '--')\n",
    "plt.plot(x22s, y22s, c =\"b\")\n",
    "plt.plot(x22d, y22d, c =\"b\",linestyle = '--')\n",
    "\n",
    "plt.plot(x31s, y31s, c =\"r\")\n",
    "plt.plot(x31d, y31d, c =\"r\",linestyle = '--')\n",
    "# for i in range(len(original_set)):\n",
    "#         plt.arrow(original_set[i][0],original_set[i][1], t1r_set[i][0]-original_set[i][0],t1r_set[i][1]-original_set[i][1] , \n",
    "#                   head_width=0.01, head_length=0.01)\n",
    "# for i in range(len(original_set)):\n",
    "#         plt.arrow(t1r_set[i][0],t1r_set[i][1], t2r_set[i][0]-t1r_set[i][0],t2r_set[i][1]-t1r_set[i][1] , \n",
    "#                   head_width=0.01, head_length=0.01)\n",
    "        \n",
    "        \n"
   ]
  },
  {
   "cell_type": "markdown",
   "metadata": {},
   "source": [
    "# Complete Transition "
   ]
  },
  {
   "cell_type": "code",
   "execution_count": null,
   "metadata": {},
   "outputs": [],
   "source": [
    "\n",
    "\n",
    "palette3 = {0:\"tab:green\",\n",
    "           1:\"tab:brown\", \n",
    "           }\n",
    "sns.set(rc = {'figure.figsize':(7,7)})\n",
    "sns.scatterplot(x1o,y1o, hue = y, palette = palette2)\n",
    "sns.scatterplot(x2o,y2o, hue = y, palette = palette3)\n",
    "sns.scatterplot(x0,y0, hue = y, palette = palette)\n",
    "\n",
    "# plt.locator_params('y', nbins=100)\n",
    "#     # adjust the x axis scale.\n",
    "# plt.locator_params('x', nbins=100)\n",
    "# plt.plot(x21, y21, c =\"pink\")\n",
    "# plt.plot(x22, y22, c =\"pink\")\n",
    "\n",
    "plt.plot(x11s, y11s, c =\"g\")\n",
    "plt.plot(x11d, y11d, c =\"g\",linestyle = '--')\n",
    "plt.plot(x12s, y12s, c =\"g\")\n",
    "plt.plot(x12d, y12d, c =\"g\",linestyle = '--')\n",
    "# plt.plot(x21, y21, c =\"b\")\n",
    "# plt.plot(x22, y22, c =\"b\")\n",
    "# plt.plot(x31, y31, c = \"r\")\n",
    "\n",
    "plt.plot(x21s, y21s, c =\"b\")\n",
    "plt.plot(x21d, y21d, c =\"b\",linestyle = '--')\n",
    "plt.plot(x22s, y22s, c =\"b\")\n",
    "plt.plot(x22d, y22d, c =\"b\",linestyle = '--')\n",
    "\n",
    "plt.plot(x31s, y31s, c =\"r\")\n",
    "plt.plot(x31d, y31d, c =\"r\",linestyle = '--')\n",
    "for i in range(len(original_set)):\n",
    "        plt.arrow(original_set[i][0],original_set[i][1], t1r_set[i][0]-original_set[i][0],t1r_set[i][1]-original_set[i][1] , \n",
    "                  head_width=0.01, head_length=0.01)\n",
    "for i in range(len(original_set)):\n",
    "        plt.arrow(t1r_set[i][0],t1r_set[i][1], t2r_set[i][0]-t1r_set[i][0],t2r_set[i][1]-t1r_set[i][1] , \n",
    "                  head_width=0.01, head_length=0.01)\n",
    "        \n",
    "        \n"
   ]
  },
  {
   "cell_type": "markdown",
   "metadata": {},
   "source": []
  },
  {
   "cell_type": "code",
   "execution_count": null,
   "metadata": {},
   "outputs": [],
   "source": [
    "weights = [weights1, weights2, weights3]\n",
    "bias = [bias1, bias2, bias3]\n",
    "\n",
    "W = organize_input(weights, bias)\n",
    "\n",
    "for w in W:\n",
    "    print(w)\n",
    "k = 50\n",
    "n = 5000\n",
    "I = [[-k, k], n]\n",
    "sns.set(rc = {'figure.figsize':(7,7)})\n",
    "\n",
    "fig, axs = plt.subplots(1,1)\n",
    "axs.set_aspect('equal')\n",
    "# axs.set_facecolor('xkcd:white')\n",
    "\n",
    "# fig,ax = plt.subplots(nrows=1, ncols=1,figsize=(10,10))\n",
    "# plt_ind_list = np.arange(3)+131\n",
    "# ax.set_aspect('equal')\n",
    "\n",
    "\n",
    "draw_sectors(axs,matrix_list=W,   \n",
    "                colors_list=['y', 'b', 'r'],   \n",
    "                width_list=len(W)*[I],  \n",
    "                height_list=len(W)*[I],  \n",
    "                frame_shape=[[-10,10],[-10,10]],  \n",
    "                remove_dotted_list=[False, False, True])\n",
    "\n",
    "draw_polyline(axs, W, 0)\n",
    "\n",
    "for i in range(len(original_set)):\n",
    "        plt.arrow(original_set[i][0],original_set[i][1], t1r_set[i][0]-original_set[i][0],t1r_set[i][1]-original_set[i][1] , \n",
    "                  head_width=0.2, head_length=0.5)\n",
    "for i in range(len(original_set)):\n",
    "        plt.arrow(t1r_set[i][0],t1r_set[i][1], t2r_set[i][0]-t1r_set[i][0],t2r_set[i][1]-t1r_set[i][1] , \n",
    "                  head_width=0.2, head_length=0.5)\n",
    "sns.scatterplot(x1o,y1o, hue = y, palette = palette2)\n",
    "sns.scatterplot(x2o,y2o, hue = y, palette = palette3)\n",
    "sns.scatterplot(x0,y0, hue = y, palette = palette)\n",
    "plt.grid()\n",
    "plt.show()"
   ]
  },
  {
   "cell_type": "code",
   "execution_count": null,
   "metadata": {},
   "outputs": [],
   "source": []
  },
  {
   "cell_type": "code",
   "execution_count": null,
   "metadata": {},
   "outputs": [],
   "source": []
  },
  {
   "cell_type": "code",
   "execution_count": null,
   "metadata": {},
   "outputs": [],
   "source": []
  },
  {
   "cell_type": "code",
   "execution_count": null,
   "metadata": {},
   "outputs": [],
   "source": []
  },
  {
   "cell_type": "code",
   "execution_count": null,
   "metadata": {},
   "outputs": [],
   "source": []
  }
 ],
 "metadata": {
  "kernelspec": {
   "display_name": "Python [conda env:cnn]",
   "language": "python",
   "name": "conda-env-cnn-py"
  },
  "language_info": {
   "codemirror_mode": {
    "name": "ipython",
    "version": 3
   },
   "file_extension": ".py",
   "mimetype": "text/x-python",
   "name": "python",
   "nbconvert_exporter": "python",
   "pygments_lexer": "ipython3",
   "version": "3.9.7"
  }
 },
 "nbformat": 4,
 "nbformat_minor": 5
}
