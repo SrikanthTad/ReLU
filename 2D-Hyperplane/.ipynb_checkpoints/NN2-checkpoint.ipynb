{
 "cells": [
  {
   "cell_type": "code",
   "execution_count": 52,
   "id": "7387b370",
   "metadata": {},
   "outputs": [],
   "source": [
    "import torch\n",
    "import torch.nn as nn\n",
    "from torch.autograd import Variable\n",
    "import torch.optim as optim\n",
    "\n",
    "import matplotlib.pyplot as plt"
   ]
  },
  {
   "cell_type": "code",
   "execution_count": 53,
   "id": "1fc3e16e",
   "metadata": {},
   "outputs": [
    {
     "name": "stdout",
     "output_type": "stream",
     "text": [
      "tensor([[-0.0704,  0.4264],\n",
      "        [-0.0927, -0.4921],\n",
      "        [ 0.1731,  0.1102],\n",
      "        ...,\n",
      "        [ 1.3869, -0.0857],\n",
      "        [-0.1066, -1.9518],\n",
      "        [ 0.7254, -0.2965]])\n",
      "tensor([[ 2.0545,  2.2328],\n",
      "        [ 1.0405,  1.5950],\n",
      "        [ 0.0383,  0.1847],\n",
      "        ...,\n",
      "        [-0.3823,  1.4238],\n",
      "        [ 2.6620,  0.9790],\n",
      "        [-0.1048,  1.8485]])\n",
      "tensor([[0.],\n",
      "        [0.],\n",
      "        [0.],\n",
      "        ...,\n",
      "        [1.],\n",
      "        [1.],\n",
      "        [1.]])\n",
      "torch.Size([1000, 2])\n",
      "torch.Size([2000, 1])\n",
      "2000\n"
     ]
    }
   ],
   "source": [
    "X1 = torch.randn(1000, 2)\n",
    "print(X1)\n",
    "X2 = torch.randn(1000, 2) + 1.5\n",
    "X = torch.cat([X1, X2], dim=0)\n",
    "print(X2)\n",
    "Y1 = torch.zeros(1000, 1)\n",
    "Y2 = torch.ones(1000, 1)\n",
    "Y = torch.cat([Y1, Y2], dim=0)\n",
    "print(Y)\n",
    "print(X1.size())\n",
    "print(Y.size())\n",
    "print(X.size(0))"
   ]
  },
  {
   "cell_type": "code",
   "execution_count": 54,
   "id": "7d333caa",
   "metadata": {},
   "outputs": [
    {
     "data": {
      "text/plain": [
       "<matplotlib.collections.PathCollection at 0x7f6a991d8f40>"
      ]
     },
     "execution_count": 54,
     "metadata": {},
     "output_type": "execute_result"
    },
    {
     "data": {
      "image/png": "[encoded data removed]",
      "text/plain": [
       "<Figure size 432x288 with 1 Axes>"
      ]
     },
     "metadata": {
      "needs_background": "light"
     },
     "output_type": "display_data"
    }
   ],
   "source": [
    "plt.scatter(X1[:, 0], X1[:, 1], color='b')\n",
    "plt.scatter(X2[:, 0], X2[:, 1], color='r')"
   ]
  },
  {
   "cell_type": "code",
   "execution_count": 55,
   "id": "34e58a6a",
   "metadata": {},
   "outputs": [],
   "source": [
    "class Net(nn.Module):\n",
    "    \n",
    "    def __init__(self):\n",
    "        super().__init__()\n",
    "        self.fc1 = torch.nn.Linear(2, 2)\n",
    "        self.relu = torch.nn.ReLU()\n",
    "        self.fc2 = torch.nn.Linear(2, 2)\n",
    "        self.out = nn.Linear(2, 1)\n",
    "        self.out_act = nn.Sigmoid()\n",
    "        \n",
    "    def forward(self, input_):\n",
    "        a1 = self.fc1(input_)\n",
    "        h1 = self.relu(a1)\n",
    "        a2 = self.fc2(h1)\n",
    "        h2 = self.relu(a2)\n",
    "        a3 = self.out(h2)\n",
    "        y = self.out_act(a3)\n",
    "        return y\n",
    "    \n",
    "net = Net()\n",
    "opt = optim.Adam(net.parameters(), lr=0.1, betas=(0.9, 0.999))\n",
    "criterion = nn.BCELoss()\n",
    "\n",
    "# class Net(nn.Module):\n",
    "    \n",
    "#     def __init__(self):\n",
    "#         super().__init__()\n",
    "#         self.fc1 = nn.Linear(2, 50)\n",
    "#         self.relu1 = nn.ReLU()\n",
    "#         self.dout = nn.Dropout(0.2)\n",
    "#         self.fc2 = nn.Linear(50, 100)\n",
    "#         self.prelu = nn.PReLU(1)\n",
    "#         self.out = nn.Linear(100, 1)\n",
    "#         self.out_act = nn.Sigmoid()\n",
    "        \n",
    "#     def forward(self, input_):\n",
    "#         a1 = self.fc1(input_)\n",
    "#         h1 = self.relu1(a1)\n",
    "#         dout = self.dout(h1)\n",
    "#         a2 = self.fc2(dout)\n",
    "#         h2 = self.prelu(a2)\n",
    "#         a3 = self.out(h2)\n",
    "#         y = self.out_act(a3)\n",
    "#         return y\n",
    "    \n",
    "# net = Net()\n",
    "# opt = optim.Adam(net.parameters(), lr=0.001, betas=(0.9, 0.999))\n",
    "# criterion = nn.BCELoss()"
   ]
  },
  {
   "cell_type": "code",
   "execution_count": 56,
   "id": "694e9c6a",
   "metadata": {},
   "outputs": [],
   "source": [
    "def train_epoch(model, opt, criterion, batch_size=50):\n",
    "    model.train()\n",
    "    losses = []\n",
    "    for beg_i in range(0, X.size(0), batch_size):\n",
    "        x_batch = X[beg_i:beg_i + batch_size, :]\n",
    "        y_batch = Y[beg_i:beg_i + batch_size, :]\n",
    "        x_batch = Variable(x_batch)\n",
    "        y_batch = Variable(y_batch)\n",
    "\n",
    "        opt.zero_grad()\n",
    "        # (1) Forward\n",
    "        y_hat = net(x_batch)\n",
    "        # (2) Compute diff\n",
    "        loss = criterion(y_hat, y_batch)\n",
    "        # (3) Compute gradients\n",
    "        loss.backward()\n",
    "        # (4) update weights\n",
    "        opt.step()        \n",
    "        losses.append(loss.data.numpy())\n",
    "    return losses"
   ]
  },
  {
   "cell_type": "code",
   "execution_count": 57,
   "id": "d5fd5d8b",
   "metadata": {},
   "outputs": [
    {
     "data": {
      "text/plain": [
       "[<matplotlib.lines.Line2D at 0x7f6a990db1f0>]"
      ]
     },
     "execution_count": 57,
     "metadata": {},
     "output_type": "execute_result"
    },
    {
     "data": {
      "image/png": "[encoded data removed]",
      "text/plain": [
       "<Figure size 432x288 with 1 Axes>"
      ]
     },
     "metadata": {
      "needs_background": "light"
     },
     "output_type": "display_data"
    }
   ],
   "source": [
    "e_losses = []\n",
    "num_epochs = 50\n",
    "for e in range(num_epochs):\n",
    "    e_losses += train_epoch(net, opt, criterion)\n",
    "plt.plot(e_losses)"
   ]
  },
  {
   "cell_type": "code",
   "execution_count": 51,
   "id": "2bd85ce2",
   "metadata": {},
   "outputs": [
    {
     "name": "stdout",
     "output_type": "stream",
     "text": [
      "tensor([[0.8280]], grad_fn=<SigmoidBackward0>)\n",
      "tensor([[0.9830]], grad_fn=<SigmoidBackward0>)\n"
     ]
    }
   ],
   "source": [
    "x_t = Variable(torch.randn(1, 2))\n",
    "net.eval()\n",
    "print(net(x_t))\n",
    "x_1_t = Variable(torch.randn(1, 2) + 1.5)\n",
    "print(net(x_1_t))"
   ]
  },
  {
   "cell_type": "code",
   "execution_count": null,
   "id": "716945a9",
   "metadata": {},
   "outputs": [],
   "source": []
  }
 ],
 "metadata": {
  "kernelspec": {
   "display_name": "Python 3 (ipykernel)",
   "language": "python",
   "name": "python3"
  },
  "language_info": {
   "codemirror_mode": {
    "name": "ipython",
    "version": 3
   },
   "file_extension": ".py",
   "mimetype": "text/x-python",
   "name": "python",
   "nbconvert_exporter": "python",
   "pygments_lexer": "ipython3",
   "version": "3.9.7"
  }
 },
 "nbformat": 4,
 "nbformat_minor": 5
}
