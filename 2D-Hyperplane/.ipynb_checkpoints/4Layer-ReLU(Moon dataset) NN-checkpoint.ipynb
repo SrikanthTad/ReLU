{
 "cells": [
  {
   "cell_type": "code",
   "execution_count": 1,
   "id": "d1877c38",
   "metadata": {},
   "outputs": [],
   "source": [
    "import sklearn.datasets\n",
    "import torch\n",
    "import numpy as np\n",
    "import torch.nn as nn\n",
    "import torch.nn.functional as F\n",
    "import matplotlib.pyplot as plt"
   ]
  },
  {
   "cell_type": "code",
   "execution_count": 20,
   "id": "a9e96f62",
   "metadata": {},
   "outputs": [
    {
     "data": {
      "image/png": "[encoded data removed]",
      "text/plain": [
       "<Figure size 432x288 with 1 Axes>"
      ]
     },
     "metadata": {
      "needs_background": "light"
     },
     "output_type": "display_data"
    }
   ],
   "source": [
    "np.random.seed(0)\n",
    "X, y = sklearn.datasets.make_moons(500,noise=0.05)\n",
    "plt.scatter(X[:, 0][y==1],X[:, 1][y==1], color='b')\n",
    "plt.scatter(X[:, 0][y==0],X[:, 1][y==0], color='orange')\n",
    "\n",
    "X = torch.from_numpy(X).type(torch.FloatTensor)\n",
    "y = torch.from_numpy(y).type(torch.FloatTensor)\n",
    "\n",
    "# print(X)"
   ]
  },
  {
   "cell_type": "code",
   "execution_count": 21,
   "id": "c0d19125",
   "metadata": {},
   "outputs": [],
   "source": [
    "class Net(nn.Module):\n",
    "    def __init__(self):\n",
    "        super(Net,self).__init__()\n",
    "        #Our network consists of 3 layers. 1 input, 1 hidden and 1 output layer\n",
    "        #This applies Linear transformation to input data. \n",
    "        self.fc1 = nn.Linear(2,2)\n",
    "        self.fc2 = nn.Linear(2,2)\n",
    "        self.fc3 = nn.Linear(2,1)\n",
    "#         self.fc4 = nn.Linear(2,2)\n",
    "#         self.fc5 = nn.Linear(2,2)\n",
    "#         self.fc6 = nn.Linear(2,2)\n",
    "#         self.fc7 = nn.Linear(2,2)\n",
    "#         self.fc8 = nn.Linear(2,2)\n",
    "#         self.fc9 = nn.Linear(2,1)\n",
    "        #This applies linear transformation to produce output data\n",
    "        \n",
    "        #self.relu = torch.nn.Sigmoid()\n",
    "        self.out_act = torch.nn.Sigmoid()\n",
    "        self.relu = torch.nn.Tanh()\n",
    "        \n",
    "    def forward(self, input):\n",
    "        \n",
    "        out = self.fc1(input)\n",
    "        out = self.relu(out)\n",
    "        out = self.fc2(out)\n",
    "        out = self.relu(out)\n",
    "        out = self.fc3(out)\n",
    "#         out = self.relu(out)\n",
    "        '''\n",
    "        out = self.fc4(out)\n",
    "        out = self.relu(out)\n",
    "        out = self.fc5(out)\n",
    "        out = self.relu(out)\n",
    "        out = self.fc6(out)\n",
    "        out = self.relu(out)\n",
    "        out = self.fc7(out)\n",
    "        out = self.relu(out)\n",
    "        out = self.fc8(out)\n",
    "        out = self.relu(out)\n",
    "        '''\n",
    "#         out = self.fc9(out)\n",
    "        output = self.out_act(out)\n",
    "        \n",
    "        return output\n",
    "#     #This must be implemented\n",
    "#     def forward(self,x):\n",
    "#         #Output of the first layer\n",
    "#         x = self.fc1(x)\n",
    "#         #Activation function is Relu. Feel free to experiment with this\n",
    "#         x = F.relu(x)\n",
    "#         #This produces output\n",
    "#         x = self.fc2(x)\n",
    "#         x = self.relu(x)\n",
    "#         x = self.fc3(x)\n",
    "#         pred = self.out_act(x)\n",
    "#         return pred\n",
    "        \n",
    "#     #This function takes an input and predicts the class, (0 or 1)        \n",
    "#     def predict(self,x):\n",
    "#         #Apply softmax to output\n",
    "#         pred = F.softmax(self.forward(x))\n",
    "#         ans = []\n",
    "#         for t in pred:\n",
    "#             if t[0]>t[1]:\n",
    "#                 ans.append(0)\n",
    "#             else:\n",
    "#                 ans.append(1)\n",
    "#         return torch.tensor(ans)\n",
    "        "
   ]
  },
  {
   "cell_type": "code",
   "execution_count": 22,
   "id": "d426e85c",
   "metadata": {},
   "outputs": [
    {
     "name": "stdout",
     "output_type": "stream",
     "text": [
      "Net(\n",
      "  (fc1): Linear(in_features=2, out_features=2, bias=True)\n",
      "  (fc2): Linear(in_features=2, out_features=2, bias=True)\n",
      "  (fc3): Linear(in_features=2, out_features=1, bias=True)\n",
      "  (out_act): Sigmoid()\n",
      "  (relu): Tanh()\n",
      ")\n"
     ]
    }
   ],
   "source": [
    "#Initialize the model        \n",
    "model = Net()\n",
    "#Define loss criterion\n",
    "# criterion = nn.CrossEntropyLoss()\n",
    "criterion = torch.nn.BCELoss()\n",
    "#Define the optimizer\n",
    "optimizer = torch.optim.Adam(model.parameters(), lr=0.001)\n",
    "# optimizer = torch.optim.SGD(params = model.parameters(), lr = 0.0001,  momentum = 0.9)\n",
    "\n",
    "print(model)"
   ]
  },
  {
   "cell_type": "code",
   "execution_count": 23,
   "id": "9b360717",
   "metadata": {},
   "outputs": [],
   "source": [
    "#Number of epochs\n",
    "epochs = 50000\n",
    "#List to store losses\n",
    "losses = []\n",
    "correct0 = []\n",
    "for i in range(epochs):\n",
    "    #Precit the output for Given input\n",
    "    y_pred = model.forward(X)\n",
    "    #print(y_pred.size())\n",
    "    #print(y.size())\n",
    "    #Compute BCE loss\n",
    "    loss = criterion(y_pred,y.unsqueeze(1))\n",
    "    #Accuracy\n",
    "    classify = (y_pred > 0.5)\n",
    "    _ = classify == y.unsqueeze(1)\n",
    "    #print(_)\n",
    "    #print(np.sum(_.detach().numpy()))\n",
    "    #print(y_pred.detach().numpy().shape[0])\n",
    "    correct = np.sum(_.detach().numpy())/y_pred.detach().numpy().shape[0]\n",
    "    correct0.append(correct)\n",
    "    #Add loss to the list\n",
    "    losses.append(loss.item())\n",
    "#     losses.append(loss.data.numpy())\n",
    "    #Clear the previous gradients\n",
    "    optimizer.zero_grad()\n",
    "    #Compute gradients\n",
    "    loss.backward()\n",
    "    #Adjust weights\n",
    "    optimizer.step()"
   ]
  },
  {
   "cell_type": "code",
   "execution_count": 24,
   "id": "4bf1169c",
   "metadata": {},
   "outputs": [
    {
     "data": {
      "image/png": "[encoded data removed]",
      "text/plain": [
       "<Figure size 432x288 with 1 Axes>"
      ]
     },
     "metadata": {
      "needs_background": "light"
     },
     "output_type": "display_data"
    }
   ],
   "source": [
    "plt.plot(losses)\n",
    "plt.plot(correct0)\n",
    "plt.show()"
   ]
  },
  {
   "cell_type": "code",
   "execution_count": 7,
   "id": "034dbc98",
   "metadata": {},
   "outputs": [],
   "source": [
    "# out = self.fc1(input)\n",
    "#         out = self.relu(out)\n",
    "#         out = self.fc2(out)\n",
    "#         out = self.relu(out)\n",
    "#         out = self.fc3(out)\n",
    "#         out = self.relu(out)\n",
    "#         '''\n",
    "#         out = self.fc4(out)\n",
    "#         out = self.relu(out)\n",
    "#         out = self.fc5(out)\n",
    "#         out = self.relu(out)\n",
    "#         out = self.fc6(out)\n",
    "#         out = self.relu(out)\n",
    "#         out = self.fc7(out)\n",
    "#         out = self.relu(out)\n",
    "#         out = self.fc8(out)\n",
    "#         out = self.relu(out)\n",
    "#         '''\n",
    "#         out = self.fc9(out)\n",
    "#         output = self.out_act(out)"
   ]
  },
  {
   "cell_type": "code",
   "execution_count": 15,
   "id": "1d4d2d44",
   "metadata": {},
   "outputs": [
    {
     "name": "stdout",
     "output_type": "stream",
     "text": [
      "Parameter containing:\n",
      "tensor([[  0.3106,  -1.1063],\n",
      "        [  4.2484, -11.8943]], requires_grad=True)\n",
      "Parameter containing:\n",
      "tensor([[ 10.7568,  15.8357],\n",
      "        [-13.8901,  39.6122]], requires_grad=True)\n",
      "Parameter containing:\n",
      "tensor([[3.1646, 8.3298]], requires_grad=True)\n"
     ]
    }
   ],
   "source": [
    "print(model.fc1.weight)\n",
    "print(model.fc2.weight)\n",
    "print(model.fc3.weight)\n",
    "# print(model.fc4.weight)\n",
    "# print(model.fc5.weight)\n",
    "# print(model.fc6.weight)\n",
    "# print(model.fc7.weight)\n",
    "# print(model.fc8.weight)\n",
    "# print(model.fc9.weight)"
   ]
  },
  {
   "cell_type": "code",
   "execution_count": 16,
   "id": "22ca7957",
   "metadata": {},
   "outputs": [
    {
     "name": "stdout",
     "output_type": "stream",
     "text": [
      "Parameter containing:\n",
      "tensor([-1.7036,  7.3182], requires_grad=True)\n",
      "Parameter containing:\n",
      "tensor([-6.2924, 13.1549], requires_grad=True)\n",
      "Parameter containing:\n",
      "tensor([-6.6915], requires_grad=True)\n"
     ]
    }
   ],
   "source": [
    "print(model.fc1.bias)\n",
    "print(model.fc2.bias)\n",
    "print(model.fc3.bias)\n",
    "# print(model.fc4.bias)\n",
    "# print(model.fc5.bias)\n",
    "# print(model.fc6.bias)\n",
    "# print(model.fc7.bias)\n",
    "# print(model.fc8.bias)\n",
    "# print(model.fc9.bias)"
   ]
  },
  {
   "cell_type": "code",
   "execution_count": null,
   "id": "b8a9ea6e",
   "metadata": {},
   "outputs": [],
   "source": []
  },
  {
   "cell_type": "code",
   "execution_count": null,
   "id": "121f2be3",
   "metadata": {},
   "outputs": [],
   "source": []
  }
 ],
 "metadata": {
  "kernelspec": {
   "display_name": "Python 3 (ipykernel)",
   "language": "python",
   "name": "python3"
  },
  "language_info": {
   "codemirror_mode": {
    "name": "ipython",
    "version": 3
   },
   "file_extension": ".py",
   "mimetype": "text/x-python",
   "name": "python",
   "nbconvert_exporter": "python",
   "pygments_lexer": "ipython3",
   "version": "3.9.7"
  }
 },
 "nbformat": 4,
 "nbformat_minor": 5
}
