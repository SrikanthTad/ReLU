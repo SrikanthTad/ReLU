{
 "cells": [
  {
   "cell_type": "code",
   "execution_count": 1,
   "metadata": {},
   "outputs": [],
   "source": [
    "import pandas as pd\n",
    "import numpy as np\n",
    "import matplotlib.pyplot as plt\n",
    "import seaborn as sns\n",
    "import statsmodels.api as sm\n"
   ]
  },
  {
   "cell_type": "code",
   "execution_count": 6,
   "metadata": {},
   "outputs": [
    {
     "name": "stdout",
     "output_type": "stream",
     "text": [
      "[[ 6.93783064 10.93981831  1.        ]\n",
      " [-2.94691608  1.84788293  0.        ]\n",
      " [-2.30081707  1.49782119  0.        ]\n",
      " [-3.67958982  3.24206043  0.        ]\n",
      " [-2.83048084  0.64041965  0.        ]]\n"
     ]
    }
   ],
   "source": [
    "path=\"/users/kent/stadiset/Research Work/ReLU/\"\n",
    "name_of_data_file = \"score.csv\"\n",
    "data = pd.read_csv(path+name_of_data_file)\n",
    "\n",
    "x = data.to_numpy()\n",
    "print(x[0:5,:])"
   ]
  },
  {
   "cell_type": "code",
   "execution_count": 7,
   "metadata": {},
   "outputs": [
    {
     "name": "stdout",
     "output_type": "stream",
     "text": [
      "[[-0.93358043  0.35836795  3.52659597]\n",
      " [-0.35836795 -0.93358043 13.13632829]\n",
      " [ 0.          0.          1.        ]]\n"
     ]
    }
   ],
   "source": [
    "v1_x = np.cos(159*np.pi/180) \n",
    "v1_y = np.sin(159*np.pi/180) \n",
    "v2_x = -v1_y\n",
    "v2_y =  v1_x\n",
    "b_x = 1+9-2\n",
    "b_y = 11-1+1\n",
    "W1 = np.array([[v1_x, v2_x, b_x],\n",
    "               [v1_y, v2_y, b_y],\n",
    "               [   0,    0,   1]])\n",
    "W1 = np.linalg.inv(W1)\n",
    "print(W1)\n"
   ]
  },
  {
   "cell_type": "code",
   "execution_count": 8,
   "metadata": {},
   "outputs": [
    {
     "name": "stdout",
     "output_type": "stream",
     "text": [
      "[[ 0.67307692  0.19230769 -3.26923077]\n",
      " [ 0.09615385  0.38461538 -1.53846154]\n",
      " [ 0.          0.          1.        ]]\n"
     ]
    }
   ],
   "source": [
    "c = 2.5\n",
    "v1_x = 4 /c\n",
    "v1_y = -1 /c\n",
    "v2_x = -2 /c\n",
    "v2_y = 7 /c\n",
    "W2 = np.array([[v1_x, v2_x, 4],\n",
    "               [v1_y, v2_y, 3],\n",
    "               [   0,    0, 1]])\n",
    "W2 = np.linalg.inv(W2)\n",
    "print(W2)"
   ]
  },
  {
   "cell_type": "code",
   "execution_count": 9,
   "metadata": {},
   "outputs": [
    {
     "name": "stdout",
     "output_type": "stream",
     "text": [
      "[ 1  2 -2]\n"
     ]
    }
   ],
   "source": [
    "w3 = np.array([  1,  2, -2])\n",
    "print(w3)"
   ]
  },
  {
   "cell_type": "code",
   "execution_count": 10,
   "metadata": {},
   "outputs": [],
   "source": [
    "def point_on_2_lines(line_1, line_2):\n",
    "    point = np.cross(line2, line1)\n",
    "    point = point / point[2]\n",
    "    return point\n",
    "\n",
    "def line_from_2_points(point_1, point_2):\n",
    "    return np.cross(point_1, point_2)\n",
    "\n",
    "def intersect_2_coord_axes(line):\n",
    "    return np.array([[- line[2]/line[0],  0,  1],\n",
    "                     [ 0, - line[2]/line[1],  1]])\n",
    "\n",
    "def intersect_1_coord_axis(point, point_at_inf):\n",
    "    line = line_from_2_points(point, point_at_inf)\n",
    "    points = intersect_2_coord_axes(line)\n",
    "    if points[0, 0] >= 0 and points[1, 1] >= 0:\n",
    "        is_the_point = (points - np.vstack((point, point))).dot(point_at_inf - point) > 0\n",
    "        if is_the_point[0]:\n",
    "            return points[0,:]\n",
    "        if is_the_point[1]:\n",
    "            return points[1,:]\n",
    "    elif points[0, 0] >= 0 and points[1, 1] < 0: \n",
    "        return  points[0,:]\n",
    "    elif points[0, 0] < 0 and points[1, 1] >= 0:\n",
    "        return points[1,:]\n",
    "    \n",
    "def pull_back(points, U):\n",
    "    return points.dot(np.linalg.inv(U).T)\n",
    "\n",
    "def layer2(line):    \n",
    "    points = intersect_2_coord_axes(line)\n",
    "    return np.vstack((np.array([0,-1,0]), \n",
    "                      points, \n",
    "                      np.array([-1,0,0])))\n",
    "\n",
    "def layer1(poly_line):\n",
    "    n_points = poly_line.shape[0]\n",
    "    new_vertex_1 = intersect_1_coord_axis(poly_line[1,:], poly_line[0,:])\n",
    "    new_vertex_2 = intersect_1_coord_axis(poly_line[2,:], poly_line[3,:])\n",
    "    if new_vertex_1[1] == 0 and new_vertex_2[0] == 0:\n",
    "        new_poly_line = np.vstack((np.array([0,-1,0]),\n",
    "                                   new_vertex_1, \n",
    "                                   poly_line[1:(n_points-1),:], \n",
    "                                   new_vertex_2,\n",
    "                                   np.array([-1,0, 0])))\n",
    "    elif new_vertex_1[1] == 0 and new_vertex_2[1] == 0:\n",
    "        new_poly_line = np.vstack((np.array([0,-1,0]),\n",
    "                                   new_vertex_2, \n",
    "                                   poly_line[1:(n_points-1),:], \n",
    "                                   new_vertex_2,\n",
    "                                   np.array([0,-1, 0])))\n",
    "    elif new_vertex_1[0] == 0 and new_vertex_2[0] == 0:\n",
    "        new_poly_line = np.vstack((np.array([-1,0,0]),\n",
    "                                   new_vertex_2, \n",
    "                                   poly_line[1:(n_points-1),:], \n",
    "                                   new_vertex_2,\n",
    "                                   np.array([-1,0,0])))\n",
    "    return new_poly_line\n",
    "\n",
    "def plot_polyline_and_data(poly_line, data, data_, length_of_ends):\n",
    "    poly_line_copy = poly_line.copy()\n",
    "    n_points = poly_line.shape[0]\n",
    "    poly_line_copy[0,:] = poly_line_copy[1,:] + length_of_ends*poly_line_copy[0,:] / np.linalg.norm(poly_line_copy[0,:])\n",
    "    poly_line_copy[n_points-1,:] = poly_line_copy[n_points-2,:] + length_of_ends*poly_line_copy[n_points-1,:] / np.linalg.norm(poly_line_copy[n_points-1,:])\n",
    "    fig, axs = plt.subplots(1,1)\n",
    "    axs.set_aspect('equal')\n",
    "    axs.plot(poly_line_copy[:,0], poly_line_copy[:,1], 'g')\n",
    "    for point in poly_line_copy:\n",
    "        axs.plot(point[0], point[1], 'yo')\n",
    "    for point in data[data_[:,2]==1]:\n",
    "        axs.plot(point[0], point[1], 'bo')\n",
    "    for point in data[data_[:,2]==0]:\n",
    "        axs.plot(point[0], point[1], 'ro')\n",
    "    plt.grid()\n",
    "    plt.show()\n",
    "\n",
    "def plot_polyline(poly_line, length_of_ends):\n",
    "    poly_line_copy = poly_line.copy()\n",
    "    n_points = poly_line.shape[0]\n",
    "    poly_line_copy[0,:] = poly_line_copy[1,:] + length_of_ends*poly_line_copy[0,:] / np.linalg.norm(poly_line_copy[0,:])\n",
    "    poly_line_copy[n_points-1,:] = poly_line_copy[n_points-2,:] + length_of_ends*poly_line_copy[n_points-1,:] / np.linalg.norm(poly_line_copy[n_points-1,:])\n",
    "    fig, axs = plt.subplots(1,1)\n",
    "    axs.set_aspect('equal')\n",
    "    axs.plot(poly_line_copy[:,0], poly_line_copy[:,1], 'g')\n",
    "    for point in poly_line_copy:\n",
    "        axs.plot(point[0], point[1], 'yo')\n",
    "    plt.grid()\n",
    "    plt.show()\n"
   ]
  },
  {
   "cell_type": "code",
   "execution_count": 13,
   "metadata": {},
   "outputs": [
    {
     "data": {
      "text/plain": [
       "array([[ 6.93783064, 10.93981831,  1.        ],\n",
       "       [-2.94691608,  1.84788293,  1.        ],\n",
       "       [-2.30081707,  1.49782119,  1.        ],\n",
       "       [-3.67958982,  3.24206043,  1.        ],\n",
       "       [-2.83048084,  0.64041965,  1.        ],\n",
       "       [ 6.43623534, 10.17397264,  1.        ],\n",
       "       [ 3.3384565 ,  9.25207154,  1.        ]])"
      ]
     },
     "execution_count": 13,
     "metadata": {},
     "output_type": "execute_result"
    }
   ],
   "source": [
    "x_ = x.copy()\n",
    "x_[:,2] = 1\n",
    "x_[0:7,:]"
   ]
  },
  {
   "cell_type": "code",
   "execution_count": 12,
   "metadata": {},
   "outputs": [
    {
     "name": "stdout",
     "output_type": "stream",
     "text": [
      "poly line in layer 2.\n"
     ]
    },
    {
     "data": {
      "image/png": "[encoded data removed]",
      "text/plain": [
       "<Figure size 432x288 with 1 Axes>"
      ]
     },
     "metadata": {
      "needs_background": "light"
     },
     "output_type": "display_data"
    },
    {
     "data": {
      "image/png": "[encoded data removed]",
      "text/plain": [
       "<Figure size 432x288 with 1 Axes>"
      ]
     },
     "metadata": {
      "needs_background": "light"
     },
     "output_type": "display_data"
    },
    {
     "name": "stdout",
     "output_type": "stream",
     "text": [
      "poly line in layer 1.\n"
     ]
    },
    {
     "data": {
      "image/png": "[encoded data removed]",
      "text/plain": [
       "<Figure size 432x288 with 1 Axes>"
      ]
     },
     "metadata": {
      "needs_background": "light"
     },
     "output_type": "display_data"
    },
    {
     "data": {
      "image/png": "[encoded data removed]",
      "text/plain": [
       "<Figure size 432x288 with 1 Axes>"
      ]
     },
     "metadata": {
      "needs_background": "light"
     },
     "output_type": "display_data"
    },
    {
     "name": "stdout",
     "output_type": "stream",
     "text": [
      "poly line in original data space.\n"
     ]
    },
    {
     "data": {
      "image/png": "[encoded data removed]",
      "text/plain": [
       "<Figure size 432x288 with 1 Axes>"
      ]
     },
     "metadata": {
      "needs_background": "light"
     },
     "output_type": "display_data"
    },
    {
     "data": {
      "image/png": "[encoded data removed]",
      "text/plain": [
       "<Figure size 432x288 with 1 Axes>"
      ]
     },
     "metadata": {
      "needs_background": "light"
     },
     "output_type": "display_data"
    }
   ],
   "source": [
    "print('poly line in layer 2.')\n",
    "pl2 = layer2(w3)\n",
    "plot_polyline(pl2, 2)\n",
    "plot_polyline_and_data(pl2, x_.dot(W1.T).dot(W2.T), x, 5)\n",
    "print('poly line in layer 1.')\n",
    "pl1 = pull_back(pl2, W2)\n",
    "pl1 = layer1(pl1)\n",
    "plot_polyline(pl1, 3)\n",
    "plot_polyline_and_data(pl1, x_.dot(W1.T), x, 5)\n",
    "print('poly line in original data space.')\n",
    "pl = pull_back(pl1, W1)\n",
    "plot_polyline(pl, 5)\n",
    "plot_polyline_and_data(pl, x_, x, 5)\n"
   ]
  },
  {
   "cell_type": "code",
   "execution_count": null,
   "metadata": {},
   "outputs": [],
   "source": []
  },
  {
   "cell_type": "code",
   "execution_count": null,
   "metadata": {},
   "outputs": [],
   "source": []
  }
 ],
 "metadata": {
  "kernelspec": {
   "display_name": "Python 3",
   "language": "python",
   "name": "python3"
  },
  "language_info": {
   "codemirror_mode": {
    "name": "ipython",
    "version": 3
   },
   "file_extension": ".py",
   "mimetype": "text/x-python",
   "name": "python",
   "nbconvert_exporter": "python",
   "pygments_lexer": "ipython3",
   "version": "3.7.4"
  }
 },
 "nbformat": 4,
 "nbformat_minor": 5
}
