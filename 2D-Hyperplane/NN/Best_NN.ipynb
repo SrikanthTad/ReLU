{
 "cells": [
  {
   "cell_type": "code",
   "execution_count": 22,
   "metadata": {},
   "outputs": [],
   "source": [
    "from sklearn.datasets import make_circles\n",
    "from sklearn.model_selection import train_test_split\n",
    "import torch\n",
    "from torch import nn\n",
    "import requests\n",
    "from pathlib import Path \n",
    "import torch\n",
    "import numpy as np\n",
    "import pandas as pd\n",
    "from sklearn.preprocessing import StandardScaler\n",
    "from sklearn.model_selection import StratifiedShuffleSplit\n",
    "from torch.utils.data import Dataset ,DataLoader\n",
    "import matplotlib.pyplot as plt\n",
    "import seaborn as sns\n",
    "from sklearn import cluster, datasets\n",
    "from sklearn.datasets import make_moons, make_circles\n",
    "import sklearn.datasets\n",
    "from matplotlib.axis import Axis\n",
    "\n",
    "# # Download helper functions from Learn PyTorch repo (if not already downloaded)\n",
    "# if Path(\"helper_functions.py\").is_file():\n",
    "#   print(\"helper_functions.py already exists, skipping download\")\n",
    "# else:\n",
    "#   print(\"Downloading helper_functions.py\")\n",
    "#   request = requests.get(\"https://raw.githubusercontent.com/mrdbourke/pytorch-deep-learning/main/helper_functions.py\")\n",
    "#   with open(\"helper_functions.py\", \"wb\") as f:\n",
    "#     f.write(request.content)\n",
    "\n",
    "from helper_functions import plot_predictions, plot_decision_boundary"
   ]
  },
  {
   "cell_type": "code",
   "execution_count": 23,
   "metadata": {},
   "outputs": [],
   "source": [
    "# # # Make 1000 samples \n",
    "# # n_samples = 1000\n",
    "\n",
    "# # # Create circles\n",
    "# # X, y = make_circles(n_samples,\n",
    "# #                     noise=0.03, # a little bit of noise to the dots\n",
    "# #                     random_state=42) # keep random state so we get the same values\n",
    "\n",
    "# # # Visualize with a plot\n",
    "# # import matplotlib.pyplot as plt\n",
    "# # plt.scatter(x=X[:, 0], \n",
    "# #             y=X[:, 1], \n",
    "# #             c=y, \n",
    "# #             cmap=plt.cm.RdYlBu);\n",
    "\n",
    "# # print(f\"First 5 X features:\\n{X[:5]}\")\n",
    "# # print(f\"\\nFirst 5 y labels:\\n{y[:5]}\")\n",
    "# X.shape, y.shape\n",
    "\n",
    "# X = torch.from_numpy(X).type(torch.float)\n",
    "# y = torch.from_numpy(y).type(torch.float)\n"
   ]
  },
  {
   "cell_type": "code",
   "execution_count": null,
   "metadata": {},
   "outputs": [],
   "source": []
  },
  {
   "cell_type": "code",
   "execution_count": 24,
   "metadata": {},
   "outputs": [],
   "source": [
    "# # Make DataFrame of circle data\n",
    "# import pandas as pd\n",
    "# circles = pd.DataFrame({\"X1\": X[:, 0],\n",
    "#     \"X2\": X[:, 1],\n",
    "#     \"label\": y\n",
    "# })\n",
    "# circles.head(10)\n",
    "\n",
    "# # Check different labels\n",
    "# circles.label.value_counts()"
   ]
  },
  {
   "cell_type": "code",
   "execution_count": 25,
   "metadata": {},
   "outputs": [],
   "source": [
    "# np.random.seed(0)\n",
    "# X, y = sklearn.datasets.make_circles(n_samples=1000, noise = 0.05, factor = 0.5)\n",
    "# X = torch.from_numpy(X).type(torch.FloatTensor)\n",
    "# y = torch.from_numpy(y).type(torch.FloatTensor)\n",
    "\n",
    "\n",
    "# epsilon = 0.3\n",
    "# X2 = X.numpy()\n",
    "# y2 = y.numpy()\n",
    "# b = np.logical_or(X2.dot(np.array([epsilon,1])) > 0 , X2.dot(np.array([epsilon,-1])) >0 )\n",
    "# b = np.logical_and(b,y2==0)\n",
    "# b = np.logical_or(b, y2==1)\n",
    "# X3 = X2[b,:]\n",
    "\n",
    "# y_labels = y2[b]\n",
    "\n",
    "# # x0,y0 = seperatePoints1(X3)\n",
    "# fig, axs = plt.subplots(1,1)\n",
    "# axs.set_aspect('equal')\n",
    "\n",
    "# axs.scatter(X3[:, 0][y_labels==1],X3[:, 1][y_labels==1], color='b')\n",
    "# axs.scatter(X3[:, 0][y_labels==0],X3[:, 1][y_labels==0], color='orange')\n",
    "\n",
    "# plt.grid()\n",
    "# plt.show()"
   ]
  },
  {
   "cell_type": "code",
   "execution_count": 26,
   "metadata": {},
   "outputs": [],
   "source": [
    "# X = torch.from_numpy(X3).type(torch.FloatTensor)\n",
    "# y = torch.from_numpy(y_labels).type(torch.FloatTensor)\n",
    "# # X = X3\n",
    "# # y = y_labels"
   ]
  },
  {
   "cell_type": "code",
   "execution_count": null,
   "metadata": {},
   "outputs": [],
   "source": []
  },
  {
   "cell_type": "code",
   "execution_count": 27,
   "metadata": {},
   "outputs": [
    {
     "data": {
      "image/png": "[encoded data removed]",
      "text/plain": [
       "<Figure size 432x288 with 1 Axes>"
      ]
     },
     "metadata": {
      "needs_background": "light"
     },
     "output_type": "display_data"
    }
   ],
   "source": [
    "np.random.seed(0)\n",
    "X, y = datasets.make_circles(n_samples=1500, noise = 0.05, factor = 0.5)\n",
    "\n",
    "eps = 0.1\n",
    "b = np.logical_or(X.dot(np.array([1, eps])) > 0 , X.dot(np.array([1, -eps])) >0 )\n",
    "b = np.logical_and(b, y==0)\n",
    "b =  np.logical_or(b, y==1)\n",
    "X = X[b,:]\n",
    "\n",
    "y = y[b]\n",
    "\n",
    "fig, axs = plt.subplots(1,1)\n",
    "axs.set_aspect('equal')\n",
    "\n",
    "axs.scatter(X[:, 0][y==1], X[:, 1][y==1], color='c')\n",
    "axs.scatter(X[:, 0][y==0],X[:, 1][y==0], color='y')\n",
    "\n",
    "plt.grid()\n",
    "plt.show()\n",
    "\n",
    "X = torch.from_numpy(X).type(torch.float)\n",
    "y = torch.from_numpy(y).type(torch.float)"
   ]
  },
  {
   "cell_type": "code",
   "execution_count": 28,
   "metadata": {},
   "outputs": [],
   "source": [
    "\n",
    "# X = torch.tensor(X)\n",
    "# y = torch.tensor(y)\n",
    "\n",
    "# X = X.numpy()\n",
    "# y = y.numpy()"
   ]
  },
  {
   "cell_type": "code",
   "execution_count": 29,
   "metadata": {},
   "outputs": [
    {
     "data": {
      "text/plain": [
       "1.0    750\n",
       "0.0    402\n",
       "Name: label, dtype: int64"
      ]
     },
     "execution_count": 29,
     "metadata": {},
     "output_type": "execute_result"
    }
   ],
   "source": [
    "# Make DataFrame of circle data\n",
    "import pandas as pd\n",
    "circles = pd.DataFrame({\"X1\": X[:, 0],\n",
    "    \"X2\": X[:, 1],\n",
    "    \"label\": y\n",
    "})\n",
    "circles.head(10)\n",
    "\n",
    "# Check different labels\n",
    "circles.label.value_counts()"
   ]
  },
  {
   "cell_type": "code",
   "execution_count": 30,
   "metadata": {},
   "outputs": [
    {
     "name": "stdout",
     "output_type": "stream",
     "text": [
      "<class 'torch.Tensor'>\n"
     ]
    },
    {
     "data": {
      "text/plain": [
       "(tensor([[ 0.9314,  0.1914],\n",
       "         [ 0.5483, -0.0060],\n",
       "         [ 0.8728,  0.3750],\n",
       "         [ 0.4354, -0.2947],\n",
       "         [-0.5363, -0.1635]]),\n",
       " tensor([0., 1., 0., 1., 1.]))"
      ]
     },
     "execution_count": 30,
     "metadata": {},
     "output_type": "execute_result"
    }
   ],
   "source": [
    "print(type(X))\n",
    "# X.shape, y.shape\n",
    "\n",
    "# Turn data into tensors\n",
    "# Otherwise this causes issues with computations later on\n",
    "import torch\n",
    "# X = torch.from_numpy(X).type(torch.float)\n",
    "# y = torch.from_numpy(y).type(torch.float)\n",
    "\n",
    "# View the first five samples\n",
    "X[:5], y[:5]"
   ]
  },
  {
   "cell_type": "code",
   "execution_count": 31,
   "metadata": {},
   "outputs": [
    {
     "data": {
      "text/plain": [
       "(921, 231, 921, 231)"
      ]
     },
     "execution_count": 31,
     "metadata": {},
     "output_type": "execute_result"
    }
   ],
   "source": [
    "# Split data into train and test sets\n",
    "\n",
    "X_train, X_test, y_train, y_test = train_test_split(X, \n",
    "                                                    y, \n",
    "                                                    test_size=0.2, # 20% test, 80% train\n",
    "                                                    random_state=42) # make the random split reproducible\n",
    "\n",
    "len(X_train), len(X_test), len(y_train), len(y_test)"
   ]
  },
  {
   "cell_type": "code",
   "execution_count": 32,
   "metadata": {},
   "outputs": [],
   "source": [
    "\n",
    "# device = \"cuda\" if torch.cuda.is_available() else \"cpu\"\n",
    "# device"
   ]
  },
  {
   "cell_type": "code",
   "execution_count": null,
   "metadata": {},
   "outputs": [],
   "source": []
  },
  {
   "cell_type": "code",
   "execution_count": null,
   "metadata": {},
   "outputs": [],
   "source": []
  },
  {
   "cell_type": "code",
   "execution_count": 33,
   "metadata": {},
   "outputs": [],
   "source": [
    "# # Create a loss function\n",
    "# # loss_fn = nn.BCELoss() # BCELoss = no sigmoid built-in\n",
    "# loss_fn = nn.BCEWithLogitsLoss() # BCEWithLogitsLoss = sigmoid built-in\n",
    "\n",
    "# # Create an optimizer\n",
    "# optimizer = torch.optim.SGD(params=model_0.parameters(), \n",
    "#                             lr=0.1)"
   ]
  },
  {
   "cell_type": "code",
   "execution_count": 34,
   "metadata": {},
   "outputs": [],
   "source": [
    "# Calculate accuracy (a classification metric)\n",
    "def accuracy_fn(y_true, y_pred):\n",
    "    correct = torch.eq(y_true, y_pred).sum().item() # torch.eq() calculates where two tensors are equal\n",
    "    acc = (correct / len(y_pred)) * 100 \n",
    "    return acc"
   ]
  },
  {
   "cell_type": "code",
   "execution_count": 35,
   "metadata": {},
   "outputs": [
    {
     "data": {
      "text/plain": [
       "'\\n1.Forward pass - The model goes through all of the training data once, performing its forward() function calculations (model(x_train)).\\n2.Calculate the loss - The model\\'s outputs (predictions) are compared to the ground truth and evaluated to see how wrong they are (loss = loss_fn(y_pred, y_train).\\n3.Zero gradients - The optimizers gradients are set to zero (they are accumulated by default) so they can be recalculated for the specific training step (optimizer.zero_grad()).\\n4.Perform backpropagation on the loss - Computes the gradient of the loss with respect for every model parameter to be updated (each parameter with requires_grad=True). This is known as backpropagation, hence \"backwards\" (loss.backward()).\\n5.Step the optimizer (gradient descent) - Update the parameters with requires_grad=True with respect to the loss gradients in order to improve them (optimizer.step()).\\n'"
      ]
     },
     "execution_count": 35,
     "metadata": {},
     "output_type": "execute_result"
    }
   ],
   "source": [
    "'''\n",
    "1.Forward pass - The model goes through all of the training data once, performing its forward() function calculations (model(x_train)).\n",
    "2.Calculate the loss - The model's outputs (predictions) are compared to the ground truth and evaluated to see how wrong they are (loss = loss_fn(y_pred, y_train).\n",
    "3.Zero gradients - The optimizers gradients are set to zero (they are accumulated by default) so they can be recalculated for the specific training step (optimizer.zero_grad()).\n",
    "4.Perform backpropagation on the loss - Computes the gradient of the loss with respect for every model parameter to be updated (each parameter with requires_grad=True). This is known as backpropagation, hence \"backwards\" (loss.backward()).\n",
    "5.Step the optimizer (gradient descent) - Update the parameters with requires_grad=True with respect to the loss gradients in order to improve them (optimizer.step()).\n",
    "'''"
   ]
  },
  {
   "cell_type": "code",
   "execution_count": null,
   "metadata": {},
   "outputs": [],
   "source": []
  },
  {
   "cell_type": "code",
   "execution_count": null,
   "metadata": {},
   "outputs": [],
   "source": []
  },
  {
   "cell_type": "code",
   "execution_count": null,
   "metadata": {},
   "outputs": [],
   "source": []
  },
  {
   "cell_type": "code",
   "execution_count": null,
   "metadata": {},
   "outputs": [],
   "source": []
  },
  {
   "cell_type": "markdown",
   "metadata": {},
   "source": [
    "# ReLU Version"
   ]
  },
  {
   "cell_type": "code",
   "execution_count": null,
   "metadata": {},
   "outputs": [],
   "source": []
  },
  {
   "cell_type": "code",
   "execution_count": 36,
   "metadata": {},
   "outputs": [
    {
     "name": "stdout",
     "output_type": "stream",
     "text": [
      "CircleModelV2(\n",
      "  (layer_1): Linear(in_features=2, out_features=3, bias=True)\n",
      "  (layer_2): Linear(in_features=3, out_features=2, bias=True)\n",
      "  (layer_3): Linear(in_features=2, out_features=1, bias=True)\n",
      "  (relu): ReLU()\n",
      ")\n"
     ]
    }
   ],
   "source": [
    "# Build model with non-linear activation function\n",
    "from torch import nn\n",
    "class CircleModelV2(nn.Module):\n",
    "    def __init__(self):\n",
    "        super().__init__()\n",
    "        self.layer_1 = nn.Linear(in_features=2, out_features=3) #2 - 10\n",
    "        self.layer_2 = nn.Linear(in_features=3, out_features=2) #10 -10\n",
    "        self.layer_3 = nn.Linear(in_features=2, out_features=1) #10-1\n",
    "#         self.layer_4 = nn.Linear(in_features=2, out_features =1)\n",
    "       \n",
    "#         #initialize custom weights \n",
    "        \n",
    "#         K1 = torch.tensor([[2. , 3.33333333],[2. , -3.33333333]])\n",
    "#         K2 = torch.tensor([[ 0.40923567, -0.09076433],[-0.09076433 , 0.40923567]])\n",
    "#         K3 = torch.tensor([[ 1.75 , 0.75],[0.75 , 1.75]])\n",
    "#         K4 = torch.tensor(([[ 1.,1.]]))\n",
    "        \n",
    "#         K11 = torch.tensor([[3.3,3.3]])\n",
    "#         K22 = torch.tensor([[-0.31847134,-0.31847134]])\n",
    "#         K33 = torch.tensor([[-2.5,-2.5]])\n",
    "#         K44 = torch.tensor([[-1.]])\n",
    "\n",
    "#         with torch.no_grad():\n",
    "#             self.layer_1.weight = torch.nn.Parameter(K1)\n",
    "#             self.layer_2.weight = torch.nn.Parameter(K2)\n",
    "#             self.layer_3.weight = torch.nn.Parameter(K3)\n",
    "#             self.layer_4.weight = torch.nn.Parameter(K4)\n",
    "\n",
    "#             self.layer_1.bias = torch.nn.Parameter(K11)\n",
    "#             self.layer_2.bias = torch.nn.Parameter(K22)\n",
    "#             self.layer_3.bias = torch.nn.Parameter(K33)\n",
    "#             self.layer_4.bias = torch.nn.Parameter(K44)\n",
    "\n",
    "\n",
    "        self.relu = nn.ReLU() # <- add in ReLU activation function\n",
    "        # Can also put sigmoid in the model \n",
    "        # This would mean you don't need to use it on the predictions\n",
    "        # self.sigmoid = nn.Sigmoid()\n",
    "\n",
    "    def forward(self, x):\n",
    "      # Intersperse the ReLU activation function between layers\n",
    "#        return self.layer_4(self.relu(self.layer_3(self.relu(self.layer_2(self.relu(self.layer_1(x)))))))\n",
    "        return self.layer_3(self.relu(self.layer_2(self.relu(self.layer_1(x)))))\n",
    "#             return self.layer_2(self.relu(self.layer_1(x)))\n",
    "\n",
    "# model_3 = CircleModelV2().to(device)\n",
    "model_3 = CircleModelV2()\n",
    "print(model_3)"
   ]
  },
  {
   "cell_type": "code",
   "execution_count": 37,
   "metadata": {},
   "outputs": [
    {
     "name": "stdout",
     "output_type": "stream",
     "text": [
      "tensor([[ 0.5406,  0.5869],\n",
      "        [-0.1657,  0.6496],\n",
      "        [-0.1549,  0.1427]])\n",
      "tensor([-0.3443,  0.4153,  0.6233])\n",
      "tensor([[-0.4236,  0.5018,  0.1081],\n",
      "        [ 0.4266,  0.0782,  0.2784]])\n",
      "tensor([-0.0815,  0.4451])\n",
      "tensor([[ 0.1045, -0.3301]])\n",
      "tensor([0.1802])\n",
      "torch.Size([3, 2])\n"
     ]
    }
   ],
   "source": [
    "# Setup loss and optimizer \n",
    "loss_fn = nn.BCEWithLogitsLoss()\n",
    "optimizer = torch.optim.SGD(model_3.parameters(), lr=0.01)\n",
    "for param in model_3.parameters():\n",
    "  print(param.data)\n",
    "\n",
    "print(model_3.layer_1.weight.shape)"
   ]
  },
  {
   "cell_type": "code",
   "execution_count": null,
   "metadata": {},
   "outputs": [],
   "source": []
  },
  {
   "cell_type": "code",
   "execution_count": 38,
   "metadata": {},
   "outputs": [
    {
     "name": "stdout",
     "output_type": "stream",
     "text": [
      "Epoch: 0 | Loss: 0.69113, Accuracy: 34.96% | Test Loss: 0.69106, Test Accuracy: 34.63%\n",
      "Epoch: 100 | Loss: 0.66301, Accuracy: 65.04% | Test Loss: 0.66239, Test Accuracy: 65.37%\n",
      "Epoch: 200 | Loss: 0.64976, Accuracy: 65.04% | Test Loss: 0.64866, Test Accuracy: 65.37%\n",
      "Epoch: 300 | Loss: 0.64231, Accuracy: 65.04% | Test Loss: 0.64080, Test Accuracy: 65.37%\n",
      "Epoch: 400 | Loss: 0.63713, Accuracy: 65.04% | Test Loss: 0.63530, Test Accuracy: 65.37%\n",
      "Epoch: 500 | Loss: 0.63260, Accuracy: 65.04% | Test Loss: 0.63055, Test Accuracy: 65.37%\n",
      "Epoch: 600 | Loss: 0.62782, Accuracy: 65.04% | Test Loss: 0.62562, Test Accuracy: 65.37%\n",
      "Epoch: 700 | Loss: 0.62215, Accuracy: 65.04% | Test Loss: 0.61991, Test Accuracy: 65.37%\n",
      "Epoch: 800 | Loss: 0.61513, Accuracy: 65.04% | Test Loss: 0.61288, Test Accuracy: 65.37%\n",
      "Epoch: 900 | Loss: 0.60639, Accuracy: 65.04% | Test Loss: 0.60441, Test Accuracy: 65.37%\n",
      "Epoch: 1000 | Loss: 0.59585, Accuracy: 65.04% | Test Loss: 0.59450, Test Accuracy: 65.37%\n",
      "Epoch: 1100 | Loss: 0.58326, Accuracy: 65.04% | Test Loss: 0.58268, Test Accuracy: 65.37%\n",
      "Epoch: 1200 | Loss: 0.56843, Accuracy: 65.04% | Test Loss: 0.56873, Test Accuracy: 65.37%\n",
      "Epoch: 1300 | Loss: 0.55120, Accuracy: 65.04% | Test Loss: 0.55261, Test Accuracy: 65.37%\n",
      "Epoch: 1400 | Loss: 0.53155, Accuracy: 66.23% | Test Loss: 0.53441, Test Accuracy: 66.23%\n",
      "Epoch: 1500 | Loss: 0.50986, Accuracy: 75.03% | Test Loss: 0.51450, Test Accuracy: 75.76%\n",
      "Epoch: 1600 | Loss: 0.48695, Accuracy: 79.15% | Test Loss: 0.49365, Test Accuracy: 80.09%\n",
      "Epoch: 1700 | Loss: 0.46382, Accuracy: 81.98% | Test Loss: 0.47275, Test Accuracy: 80.95%\n",
      "Epoch: 1800 | Loss: 0.44147, Accuracy: 83.50% | Test Loss: 0.45253, Test Accuracy: 81.82%\n",
      "Epoch: 1900 | Loss: 0.42062, Accuracy: 84.47% | Test Loss: 0.43362, Test Accuracy: 82.25%\n",
      "Epoch: 2000 | Loss: 0.40159, Accuracy: 85.02% | Test Loss: 0.41617, Test Accuracy: 83.12%\n",
      "Epoch: 2100 | Loss: 0.38428, Accuracy: 84.80% | Test Loss: 0.40001, Test Accuracy: 83.55%\n",
      "Epoch: 2200 | Loss: 0.36812, Accuracy: 84.80% | Test Loss: 0.38453, Test Accuracy: 83.55%\n",
      "Epoch: 2300 | Loss: 0.35259, Accuracy: 85.02% | Test Loss: 0.36927, Test Accuracy: 83.12%\n",
      "Epoch: 2400 | Loss: 0.33759, Accuracy: 84.69% | Test Loss: 0.35415, Test Accuracy: 83.12%\n",
      "Epoch: 2500 | Loss: 0.32286, Accuracy: 84.47% | Test Loss: 0.33870, Test Accuracy: 83.55%\n",
      "Epoch: 2600 | Loss: 0.30759, Accuracy: 84.47% | Test Loss: 0.32320, Test Accuracy: 83.98%\n",
      "Epoch: 2700 | Loss: 0.29245, Accuracy: 88.93% | Test Loss: 0.30835, Test Accuracy: 87.88%\n",
      "Epoch: 2800 | Loss: 0.27711, Accuracy: 90.77% | Test Loss: 0.29278, Test Accuracy: 89.61%\n",
      "Epoch: 2900 | Loss: 0.26159, Accuracy: 92.18% | Test Loss: 0.27733, Test Accuracy: 90.48%\n",
      "Epoch: 3000 | Loss: 0.24606, Accuracy: 93.27% | Test Loss: 0.26207, Test Accuracy: 90.48%\n",
      "Epoch: 3100 | Loss: 0.23076, Accuracy: 94.57% | Test Loss: 0.24765, Test Accuracy: 91.34%\n",
      "Epoch: 3200 | Loss: 0.21557, Accuracy: 95.44% | Test Loss: 0.23423, Test Accuracy: 92.21%\n",
      "Epoch: 3300 | Loss: 0.20118, Accuracy: 96.53% | Test Loss: 0.22155, Test Accuracy: 93.07%\n",
      "Epoch: 3400 | Loss: 0.18745, Accuracy: 96.96% | Test Loss: 0.20927, Test Accuracy: 93.07%\n",
      "Epoch: 3500 | Loss: 0.17461, Accuracy: 96.96% | Test Loss: 0.19763, Test Accuracy: 93.07%\n",
      "Epoch: 3600 | Loss: 0.16304, Accuracy: 97.18% | Test Loss: 0.18667, Test Accuracy: 93.07%\n",
      "Epoch: 3700 | Loss: 0.15206, Accuracy: 97.72% | Test Loss: 0.17616, Test Accuracy: 93.94%\n",
      "Epoch: 3800 | Loss: 0.14212, Accuracy: 98.15% | Test Loss: 0.16670, Test Accuracy: 94.37%\n",
      "Epoch: 3900 | Loss: 0.13332, Accuracy: 98.37% | Test Loss: 0.15844, Test Accuracy: 94.37%\n",
      "Epoch: 4000 | Loss: 0.12537, Accuracy: 98.37% | Test Loss: 0.15067, Test Accuracy: 94.37%\n",
      "Epoch: 4100 | Loss: 0.11812, Accuracy: 98.81% | Test Loss: 0.14345, Test Accuracy: 94.81%\n",
      "Epoch: 4200 | Loss: 0.11150, Accuracy: 98.91% | Test Loss: 0.13671, Test Accuracy: 94.81%\n",
      "Epoch: 4300 | Loss: 0.10540, Accuracy: 99.02% | Test Loss: 0.13028, Test Accuracy: 96.54%\n",
      "Epoch: 4400 | Loss: 0.09974, Accuracy: 99.24% | Test Loss: 0.12432, Test Accuracy: 96.54%\n",
      "Epoch: 4500 | Loss: 0.09454, Accuracy: 99.46% | Test Loss: 0.11888, Test Accuracy: 96.54%\n",
      "Epoch: 4600 | Loss: 0.08964, Accuracy: 99.46% | Test Loss: 0.11370, Test Accuracy: 97.84%\n",
      "Epoch: 4700 | Loss: 0.08513, Accuracy: 99.57% | Test Loss: 0.10908, Test Accuracy: 97.84%\n",
      "Epoch: 4800 | Loss: 0.08101, Accuracy: 99.67% | Test Loss: 0.10484, Test Accuracy: 97.84%\n",
      "Epoch: 4900 | Loss: 0.07721, Accuracy: 99.89% | Test Loss: 0.10095, Test Accuracy: 97.84%\n"
     ]
    }
   ],
   "source": [
    "# Fit the model\n",
    "torch.manual_seed(42)\n",
    "epochs = 5000\n",
    "\n",
    "# Put all data on target device\n",
    "X_train, y_train = X_train, y_train\n",
    "X_test, y_test = X_test, y_test\n",
    "\n",
    "for epoch in range(epochs):\n",
    "    # 1. Forward pass\n",
    "    y_logits = model_3(X_train).squeeze()\n",
    "    y_pred = torch.round(torch.sigmoid(y_logits)) # logits -> prediction probabilities -> prediction labels\n",
    "    \n",
    "    # 2. Calculate loss and accuracy\n",
    "    loss = loss_fn(y_logits, y_train) # BCEWithLogitsLoss calculates loss using logits\n",
    "    acc = accuracy_fn(y_true=y_train, \n",
    "                      y_pred=y_pred)\n",
    "    \n",
    "    # 3. Optimizer zero grad\n",
    "    optimizer.zero_grad()\n",
    "\n",
    "    # 4. Loss backward\n",
    "    loss.backward()\n",
    "\n",
    "    # 5. Optimizer step\n",
    "    optimizer.step()\n",
    "\n",
    "    ### Testing\n",
    "    model_3.eval()\n",
    "    with torch.inference_mode():\n",
    "      # 1. Forward pass\n",
    "      test_logits = model_3(X_test).squeeze()\n",
    "      test_pred = torch.round(torch.sigmoid(test_logits)) # logits -> prediction probabilities -> prediction labels\n",
    "      # 2. Calcuate loss and accuracy\n",
    "      test_loss = loss_fn(test_logits, y_test)\n",
    "      test_acc = accuracy_fn(y_true=y_test,\n",
    "                             y_pred=test_pred)\n",
    "\n",
    "    # Print out what's happening\n",
    "    if epoch % 100 == 0:\n",
    "        print(f\"Epoch: {epoch} | Loss: {loss:.5f}, Accuracy: {acc:.2f}% | Test Loss: {test_loss:.5f}, Test Accuracy: {test_acc:.2f}%\")"
   ]
  },
  {
   "cell_type": "code",
   "execution_count": 39,
   "metadata": {},
   "outputs": [
    {
     "data": {
      "text/plain": [
       "(tensor([1., 0., 1., 0., 1., 0., 1., 1., 1., 1.]),\n",
       " tensor([0., 1., 0., 1., 1., 0., 0., 1., 1., 1.]))"
      ]
     },
     "execution_count": 39,
     "metadata": {},
     "output_type": "execute_result"
    }
   ],
   "source": [
    "# Make predictions\n",
    "model_3.eval()\n",
    "with torch.inference_mode():\n",
    "    y_preds = torch.round(torch.sigmoid(model_3(X_test))).squeeze()\n",
    "y_preds[:10], y[:10] # want preds in same format as truth labels"
   ]
  },
  {
   "cell_type": "code",
   "execution_count": 40,
   "metadata": {},
   "outputs": [
    {
     "data": {
      "image/png": "[encoded data removed]",
      "text/plain": [
       "<Figure size 1080x432 with 2 Axes>"
      ]
     },
     "metadata": {
      "needs_background": "light"
     },
     "output_type": "display_data"
    }
   ],
   "source": [
    "# Plot decision boundaries for training and test sets\n",
    "plt.figure(figsize=(15, 6))\n",
    "plt.subplot(1, 2, 1)\n",
    "plt.title(\"Train\")\n",
    "# plot_decision_boundary(model_0, X_train, y_train) # model_1 = no non-linearity\n",
    "plt.subplot(1, 2, 2)\n",
    "plt.title(\"Test\")\n",
    "plot_decision_boundary(model_3, X_test, y_test) # model_3 = has non-linearity"
   ]
  },
  {
   "cell_type": "code",
   "execution_count": 41,
   "metadata": {},
   "outputs": [
    {
     "name": "stdout",
     "output_type": "stream",
     "text": [
      "tensor([[ 0.8853,  2.3911],\n",
      "        [-0.9719,  1.0719],\n",
      "        [-0.4749,  0.5149]])\n",
      "tensor([-0.5983,  1.3265,  0.6462])\n",
      "tensor([[-1.7559,  1.7418,  0.7511],\n",
      "        [ 1.8390, -0.6748,  0.0185]])\n",
      "tensor([-7.8487e-05,  1.0545e+00])\n",
      "tensor([[ 2.4986, -2.1436]])\n",
      "tensor([-0.0077])\n"
     ]
    }
   ],
   "source": [
    "for param in model_3.parameters():\n",
    "    print(param.data)\n",
    "\n"
   ]
  },
  {
   "cell_type": "markdown",
   "metadata": {},
   "source": [
    "# Initialize with custom weights"
   ]
  },
  {
   "cell_type": "code",
   "execution_count": 42,
   "metadata": {},
   "outputs": [],
   "source": [
    "# weights1 = np.array(([ 2. ,3.33333333],\n",
    "#  [ 2.    ,     -3.33333333]))\n",
    "\n",
    "# weights2 = np.array(([ 0.40923567, -0.09076433],\n",
    "#  [-0.09076433 , 0.40923567]))\n",
    "\n",
    "# weights3 = np.array(([ 1.75 , 0.75],\n",
    "#  [ 0.75 , 1.75]))\n",
    "\n",
    "# weights4 = np.array(([ 1,1]))\n",
    "\n",
    "# bias1 = np.array(([3.3,3.3]))\n",
    "\n",
    "# bias2 = np.array(([-0.31847134,-0.31847134]))\n",
    "\n",
    "# bias3 = np.array(([-2.5,-2.5]))\n",
    "\n",
    "# bias4 = np.array(([-1]))"
   ]
  },
  {
   "cell_type": "code",
   "execution_count": 53,
   "metadata": {},
   "outputs": [
    {
     "name": "stdout",
     "output_type": "stream",
     "text": [
      "tensor([2.0619], grad_fn=<SelectBackward0>)\n",
      "[0. 0. 0. ... 0. 0. 0.]\n"
     ]
    },
    {
     "ename": "IndexError",
     "evalue": "index 1 is out of bounds for dimension 1 with size 1",
     "output_type": "error",
     "traceback": [
      "\u001b[0;31m---------------------------------------------------------------------------\u001b[0m",
      "\u001b[0;31mIndexError\u001b[0m                                Traceback (most recent call last)",
      "\u001b[0;32m/tmp/ipykernel_2728054/1562905511.py\u001b[0m in \u001b[0;36m<module>\u001b[0;34m\u001b[0m\n\u001b[1;32m     31\u001b[0m \u001b[0;34m'''Draw Surface'''\u001b[0m\u001b[0;34m\u001b[0m\u001b[0;34m\u001b[0m\u001b[0m\n\u001b[1;32m     32\u001b[0m \u001b[0mZ_1\u001b[0m \u001b[0;34m=\u001b[0m \u001b[0mZ\u001b[0m\u001b[0;34m[\u001b[0m\u001b[0;34m:\u001b[0m\u001b[0;34m,\u001b[0m \u001b[0;36m0\u001b[0m\u001b[0;34m]\u001b[0m\u001b[0;34m.\u001b[0m\u001b[0mnumpy\u001b[0m\u001b[0;34m(\u001b[0m\u001b[0;34m)\u001b[0m\u001b[0;34m.\u001b[0m\u001b[0mreshape\u001b[0m\u001b[0;34m(\u001b[0m\u001b[0mxx\u001b[0m\u001b[0;34m.\u001b[0m\u001b[0mshape\u001b[0m\u001b[0;34m)\u001b[0m\u001b[0;34m\u001b[0m\u001b[0;34m\u001b[0m\u001b[0m\n\u001b[0;32m---> 33\u001b[0;31m \u001b[0mZ_2\u001b[0m \u001b[0;34m=\u001b[0m \u001b[0mZ\u001b[0m\u001b[0;34m[\u001b[0m\u001b[0;34m:\u001b[0m\u001b[0;34m,\u001b[0m \u001b[0;36m1\u001b[0m\u001b[0;34m]\u001b[0m\u001b[0;34m.\u001b[0m\u001b[0mnumpy\u001b[0m\u001b[0;34m(\u001b[0m\u001b[0;34m)\u001b[0m\u001b[0;34m.\u001b[0m\u001b[0mreshape\u001b[0m\u001b[0;34m(\u001b[0m\u001b[0mxx\u001b[0m\u001b[0;34m.\u001b[0m\u001b[0mshape\u001b[0m\u001b[0;34m)\u001b[0m\u001b[0;34m\u001b[0m\u001b[0;34m\u001b[0m\u001b[0m\n\u001b[0m\u001b[1;32m     34\u001b[0m     \u001b[0;31m#print(\"Z_1:\", Z_1)\u001b[0m\u001b[0;34m\u001b[0m\u001b[0;34m\u001b[0m\u001b[0m\n\u001b[1;32m     35\u001b[0m     \u001b[0;31m#print(\"Z_2:\", Z_2)\u001b[0m\u001b[0;34m\u001b[0m\u001b[0;34m\u001b[0m\u001b[0m\n",
      "\u001b[0;31mIndexError\u001b[0m: index 1 is out of bounds for dimension 1 with size 1"
     ]
    },
    {
     "data": {
      "image/png": "[encoded data removed]",
      "text/plain": [
       "<Figure size 432x288 with 1 Axes>"
      ]
     },
     "metadata": {
      "needs_background": "light"
     },
     "output_type": "display_data"
    }
   ],
   "source": []
  },
  {
   "cell_type": "code",
   "execution_count": null,
   "metadata": {},
   "outputs": [],
   "source": []
  }
 ],
 "metadata": {
  "kernelspec": {
   "display_name": "Python [conda env:cnn]",
   "language": "python",
   "name": "conda-env-cnn-py"
  },
  "language_info": {
   "codemirror_mode": {
    "name": "ipython",
    "version": 3
   },
   "file_extension": ".py",
   "mimetype": "text/x-python",
   "name": "python",
   "nbconvert_exporter": "python",
   "pygments_lexer": "ipython3",
   "version": "3.9.7"
  }
 },
 "nbformat": 4,
 "nbformat_minor": 2
}
