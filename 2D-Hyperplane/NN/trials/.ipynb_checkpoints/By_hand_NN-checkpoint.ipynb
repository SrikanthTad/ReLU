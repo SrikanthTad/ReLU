{
 "cells": [
  {
   "cell_type": "code",
   "execution_count": 3,
   "id": "70a2413e",
   "metadata": {},
   "outputs": [],
   "source": [
    "%reset -f\n",
    "import torch\n",
    "import numpy as np\n",
    "import matplotlib.pyplot as plt\n",
    "import torch.nn as nn\n",
    "from sklearn import datasets\n",
    "plt.style.use('seaborn')\n",
    "%matplotlib inline"
   ]
  },
  {
   "cell_type": "code",
   "execution_count": 18,
   "id": "a70fa50c",
   "metadata": {
    "scrolled": true
   },
   "outputs": [
    {
     "data": {
      "image/png": "[encoded data removed]",
      "text/plain": [
       "<Figure size 432x288 with 1 Axes>"
      ]
     },
     "metadata": {
      "needs_background": "light"
     },
     "output_type": "display_data"
    }
   ],
   "source": [
    "X,Y = datasets.make_moons(n_samples=50000, shuffle=True, noise=0.02, random_state=1234)\n",
    "y = np.reshape(Y, (len(Y),1))\n",
    "\n",
    "plt.figure()\n",
    "plt.scatter(X[:,0], X[:,1], c=Y)\n",
    "plt.show()"
   ]
  },
  {
   "cell_type": "code",
   "execution_count": 19,
   "id": "670a014f",
   "metadata": {},
   "outputs": [],
   "source": [
    "input_size = 2 \n",
    "hidden_size = 2\n",
    "output_size = 1"
   ]
  },
  {
   "cell_type": "code",
   "execution_count": 27,
   "id": "7e11d689",
   "metadata": {},
   "outputs": [],
   "source": [
    "class NeuralNetwork(nn.Module):\n",
    "    def __init__(self, input_size, hidden_size, output_size):\n",
    "        super(NeuralNetwork, self).__init__()\n",
    "        # weights\n",
    "        self.W1 = torch.randn(input_size, hidden_size, requires_grad=True)\n",
    "        self.W2 = torch.randn(hidden_size, hidden_size, requires_grad=True)\n",
    "        self.W3 = torch.randn(hidden_size, output_size, requires_grad=True)\n",
    "        \n",
    "        # Add bias\n",
    "        self.b1 = torch.randn(hidden_size, requires_grad=True)\n",
    "        self.b2 = torch.randn(hidden_size, requires_grad=True)\n",
    "        self.b3 = torch.randn(output_size, requires_grad=True)\n",
    "        self.relu = nn.ReLU()\n",
    "        \n",
    "    def forward(self, inputs):\n",
    "        z1 = inputs.mm(self.W1).add(self.b1)\n",
    "        a1 = self.relu(z1)\n",
    "        z2 = a1.mm(self.W2).add(self.b2)\n",
    "        a2 = self.relu(z2)\n",
    "        z3 = a2.mm(self.W3).add(self.b3)\n",
    "        output = 1 / (1 + torch.exp(-z3))\n",
    "        return output"
   ]
  },
  {
   "cell_type": "code",
   "execution_count": 28,
   "id": "7936bca8",
   "metadata": {},
   "outputs": [
    {
     "name": "stdout",
     "output_type": "stream",
     "text": [
      "tensor([[-1.9045, -0.0203],\n",
      "        [-0.5246,  0.3781]], requires_grad=True)\n",
      "tensor([[ 1.6874,  1.6736],\n",
      "        [-2.2039, -1.4122]], requires_grad=True)\n",
      "tensor([[ 0.2331],\n",
      "        [-0.2646]], requires_grad=True)\n"
     ]
    }
   ],
   "source": [
    "W1 = torch.randn(2, 2, requires_grad=True)\n",
    "W2 = torch.randn(2, 2, requires_grad=True)\n",
    "W3 = torch.randn(2, 1, requires_grad=True)\n",
    "print(W1)\n",
    "print(W2)\n",
    "print(W3)"
   ]
  },
  {
   "cell_type": "code",
   "execution_count": 42,
   "id": "afd3f330",
   "metadata": {},
   "outputs": [
    {
     "name": "stdout",
     "output_type": "stream",
     "text": [
      "tensor([-1.0372,  0.7014], requires_grad=True)\n",
      "tensor([-0.7120, -0.7592], requires_grad=True)\n",
      "tensor([-1.5593, -0.6870], requires_grad=True)\n"
     ]
    }
   ],
   "source": [
    "b1 = torch.randn(2, requires_grad=True)\n",
    "b2 = torch.randn(2, requires_grad=True)\n",
    "b3 = torch.randn(2, requires_grad=True)\n",
    "print(b1)\n",
    "print(b2)\n",
    "print(b3)"
   ]
  },
  {
   "cell_type": "code",
   "execution_count": 43,
   "id": "2822a698",
   "metadata": {},
   "outputs": [
    {
     "data": {
      "text/plain": [
       "tensor([[1.4479, 1.1474]], grad_fn=<AddBackward0>)"
      ]
     },
     "execution_count": 43,
     "metadata": {},
     "output_type": "execute_result"
    }
   ],
   "source": [
    "torch.randn(1,2).mm(W1).add(b1)"
   ]
  },
  {
   "cell_type": "code",
   "execution_count": 44,
   "id": "4b95e690",
   "metadata": {},
   "outputs": [
    {
     "name": "stdout",
     "output_type": "stream",
     "text": [
      "tensor([[-2.4384,  0.2311]], grad_fn=<AddBackward0>)\n",
      "tensor([[0.0803, 0.5575]], grad_fn=<MulBackward0>)\n",
      "tensor([[0.1710, 0.3305]], grad_fn=<MulBackward0>)\n"
     ]
    }
   ],
   "source": [
    "z1 = torch.randn(1,2).mm(W1).add(b1)\n",
    "a1 = 1 / (1 + torch.exp(-z1))\n",
    "z2 = a1.mm(W2).add(b2)\n",
    "a2 = 1 / (1 + torch.exp(-z2))\n",
    "z3 = a2.mm(W3).add(b3)\n",
    "output = 1 / (1 + torch.exp(-z3))\n",
    "print(z1)\n",
    "print(a1)\n",
    "print(output)"
   ]
  },
  {
   "cell_type": "code",
   "execution_count": 45,
   "id": "24ef945c",
   "metadata": {},
   "outputs": [],
   "source": [
    "epochs = 10000\n",
    "learning_rate = 0.005"
   ]
  },
  {
   "cell_type": "code",
   "execution_count": 46,
   "id": "e3125b95",
   "metadata": {},
   "outputs": [],
   "source": [
    "model = NeuralNetwork(input_size, hidden_size, output_size)"
   ]
  },
  {
   "cell_type": "code",
   "execution_count": 47,
   "id": "cdd532d5",
   "metadata": {},
   "outputs": [],
   "source": [
    "inputs = torch.tensor(X, dtype=torch.float)\n",
    "labels = torch.tensor(y, dtype=torch.float)"
   ]
  },
  {
   "cell_type": "code",
   "execution_count": 48,
   "id": "68a363a7",
   "metadata": {},
   "outputs": [
    {
     "name": "stdout",
     "output_type": "stream",
     "text": [
      "0 24.004039764404297\n",
      "500 6.618360996246338\n",
      "1000 6.512503147125244\n",
      "1500 6.48910665512085\n",
      "2000 6.4784345626831055\n",
      "2500 6.4725213050842285\n",
      "3000 6.468894004821777\n",
      "3500 6.466434955596924\n",
      "4000 6.464615345001221\n",
      "4500 6.463158130645752\n",
      "5000 6.461972713470459\n",
      "5500 6.460976600646973\n",
      "6000 6.4601054191589355\n",
      "6500 6.459327220916748\n",
      "7000 6.458611965179443\n",
      "7500 6.457972049713135\n",
      "8000 6.457400321960449\n",
      "8500 6.456881999969482\n",
      "9000 6.456408977508545\n",
      "9500 6.455970764160156\n"
     ]
    }
   ],
   "source": [
    "losses = []\n",
    "for epoch in range(epochs):\n",
    "\n",
    "    # forward function\n",
    "    output = model.forward(inputs)\n",
    "\n",
    "    #BinaryCrossEntropy formula\n",
    "    # loss = -((labels * torch.log(output)) + (1 - labels) * torch.log(1 - output)).sum()\n",
    "    \n",
    "    #MSE Loss Function\n",
    "    loss = ((labels - output) ** 2).sum() / 500\n",
    "    \n",
    "    #Log the log so we can plot it later\n",
    "    losses.append(loss.item())\n",
    "    if not epoch%500: print(epoch, loss.item())\n",
    "\n",
    "    #calculate the gradients of the weights wrt to loss\n",
    "    loss.backward()\n",
    "\n",
    "    #adjust the weights based on the previous calculated gradients\n",
    "    model.W1.data -= learning_rate * model.W1.grad\n",
    "    model.W2.data -= learning_rate * model.W2.grad\n",
    "    model.W3.data -= learning_rate * model.W3.grad\n",
    "    model.b1.data -= learning_rate * model.b1.grad\n",
    "    model.b2.data -= learning_rate * model.b2.grad\n",
    "    model.b3.data -= learning_rate * model.b3.grad\n",
    "\n",
    "    #clear the gradients so they wont accumulate\n",
    "    model.W1.grad.zero_()\n",
    "    model.W2.grad.zero_()\n",
    "    model.W3.grad.zero_()\n",
    "    model.b1.grad.zero_()\n",
    "    model.b2.grad.zero_()\n",
    "    model.b3.grad.zero_()"
   ]
  },
  {
   "cell_type": "code",
   "execution_count": 49,
   "id": "b6f8d40c",
   "metadata": {},
   "outputs": [
    {
     "name": "stdout",
     "output_type": "stream",
     "text": [
      "Final loss:  6.455562591552734\n"
     ]
    },
    {
     "data": {
      "text/plain": [
       "[<matplotlib.lines.Line2D at 0x7ff9442c58e0>]"
      ]
     },
     "execution_count": 49,
     "metadata": {},
     "output_type": "execute_result"
    },
    {
     "data": {
      "image/png": "[encoded data removed]",
      "text/plain": [
       "<Figure size 432x288 with 1 Axes>"
      ]
     },
     "metadata": {
      "needs_background": "light"
     },
     "output_type": "display_data"
    }
   ],
   "source": [
    "print(\"Final loss: \", losses[-1])\n",
    "plt.plot(losses)"
   ]
  },
  {
   "cell_type": "code",
   "execution_count": null,
   "id": "54419d4f",
   "metadata": {},
   "outputs": [],
   "source": []
  },
  {
   "cell_type": "code",
   "execution_count": null,
   "id": "242f5f9a",
   "metadata": {},
   "outputs": [],
   "source": []
  },
  {
   "cell_type": "code",
   "execution_count": 51,
   "id": "e8848480",
   "metadata": {},
   "outputs": [
    {
     "name": "stdout",
     "output_type": "stream",
     "text": [
      "tensor([[ 0.0269, -2.1142],\n",
      "        [-1.1578, -0.8678]], requires_grad=True)\n",
      "tensor([[ 3.0911, -1.2621],\n",
      "        [-1.8091, -0.8782]], requires_grad=True)\n",
      "tensor([[ 1.5716],\n",
      "        [-0.2452]], requires_grad=True)\n"
     ]
    }
   ],
   "source": [
    "print(model.W1)\n",
    "print(model.W2)\n",
    "print(model.W3)"
   ]
  },
  {
   "cell_type": "code",
   "execution_count": 52,
   "id": "775f0392",
   "metadata": {},
   "outputs": [
    {
     "name": "stdout",
     "output_type": "stream",
     "text": [
      "tensor([1.2557, 0.1670], requires_grad=True)\n",
      "tensor([ 0.0099, -1.7314], requires_grad=True)\n",
      "tensor([-4.0600], requires_grad=True)\n"
     ]
    }
   ],
   "source": [
    "print(model.b1)\n",
    "print(model.b2)\n",
    "print(model.b3)"
   ]
  },
  {
   "cell_type": "code",
   "execution_count": null,
   "id": "1067c180",
   "metadata": {},
   "outputs": [],
   "source": []
  },
  {
   "cell_type": "code",
   "execution_count": null,
   "id": "08e30015",
   "metadata": {},
   "outputs": [],
   "source": []
  },
  {
   "cell_type": "code",
   "execution_count": 4,
   "id": "69b5c5d8",
   "metadata": {},
   "outputs": [
    {
     "ename": "ModuleNotFoundError",
     "evalue": "No module named 'manim'",
     "output_type": "error",
     "traceback": [
      "\u001b[0;31m---------------------------------------------------------------------------\u001b[0m",
      "\u001b[0;31mModuleNotFoundError\u001b[0m                       Traceback (most recent call last)",
      "\u001b[0;32m/tmp/ipykernel_1747667/3851149590.py\u001b[0m in \u001b[0;36m<module>\u001b[0;34m\u001b[0m\n\u001b[0;32m----> 1\u001b[0;31m \u001b[0;32mfrom\u001b[0m \u001b[0mmanim\u001b[0m \u001b[0;32mimport\u001b[0m \u001b[0;34m*\u001b[0m\u001b[0;34m\u001b[0m\u001b[0;34m\u001b[0m\u001b[0m\n\u001b[0m\u001b[1;32m      2\u001b[0m \u001b[0;34m\u001b[0m\u001b[0m\n\u001b[1;32m      3\u001b[0m \u001b[0;34m\u001b[0m\u001b[0m\n\u001b[1;32m      4\u001b[0m \u001b[0;32mclass\u001b[0m \u001b[0mCreateCircle\u001b[0m\u001b[0;34m(\u001b[0m\u001b[0mScene\u001b[0m\u001b[0;34m)\u001b[0m\u001b[0;34m:\u001b[0m\u001b[0;34m\u001b[0m\u001b[0;34m\u001b[0m\u001b[0m\n\u001b[1;32m      5\u001b[0m     \u001b[0;32mdef\u001b[0m \u001b[0mconstruct\u001b[0m\u001b[0;34m(\u001b[0m\u001b[0mself\u001b[0m\u001b[0;34m)\u001b[0m\u001b[0;34m:\u001b[0m\u001b[0;34m\u001b[0m\u001b[0;34m\u001b[0m\u001b[0m\n",
      "\u001b[0;31mModuleNotFoundError\u001b[0m: No module named 'manim'"
     ]
    }
   ],
   "source": [
    "from manim import *\n",
    "\n",
    "\n",
    "class CreateCircle(Scene):\n",
    "    def construct(self):\n",
    "        circle = Circle()  # create a circle\n",
    "        circle.set_fill(PINK, opacity=0.5)  # set the color and transparency\n",
    "        self.play(Create(circle))  # show the circle on screen"
   ]
  },
  {
   "cell_type": "code",
   "execution_count": null,
   "id": "0dfbcf25",
   "metadata": {},
   "outputs": [],
   "source": []
  },
  {
   "cell_type": "code",
   "execution_count": null,
   "id": "0465b0e4",
   "metadata": {},
   "outputs": [],
   "source": []
  },
  {
   "cell_type": "code",
   "execution_count": null,
   "id": "c99a4f13",
   "metadata": {},
   "outputs": [],
   "source": []
  },
  {
   "cell_type": "code",
   "execution_count": null,
   "id": "ae0021a7",
   "metadata": {},
   "outputs": [],
   "source": []
  },
  {
   "cell_type": "code",
   "execution_count": null,
   "id": "2533ce49",
   "metadata": {},
   "outputs": [],
   "source": []
  },
  {
   "cell_type": "code",
   "execution_count": null,
   "id": "4b3d4100",
   "metadata": {},
   "outputs": [],
   "source": []
  },
  {
   "cell_type": "code",
   "execution_count": null,
   "id": "93ccfb51",
   "metadata": {
    "scrolled": true
   },
   "outputs": [],
   "source": []
  },
  {
   "cell_type": "code",
   "execution_count": null,
   "id": "b0ad6d37",
   "metadata": {},
   "outputs": [],
   "source": []
  },
  {
   "cell_type": "code",
   "execution_count": null,
   "id": "7fdbbdaa",
   "metadata": {},
   "outputs": [],
   "source": []
  },
  {
   "cell_type": "code",
   "execution_count": null,
   "id": "a52d5259",
   "metadata": {},
   "outputs": [],
   "source": []
  },
  {
   "cell_type": "code",
   "execution_count": null,
   "id": "10c016cd",
   "metadata": {},
   "outputs": [],
   "source": []
  }
 ],
 "metadata": {
  "kernelspec": {
   "display_name": "Python 3 (ipykernel)",
   "language": "python",
   "name": "python3"
  },
  "language_info": {
   "codemirror_mode": {
    "name": "ipython",
    "version": 3
   },
   "file_extension": ".py",
   "mimetype": "text/x-python",
   "name": "python",
   "nbconvert_exporter": "python",
   "pygments_lexer": "ipython3",
   "version": "3.9.7"
  }
 },
 "nbformat": 4,
 "nbformat_minor": 5
}
