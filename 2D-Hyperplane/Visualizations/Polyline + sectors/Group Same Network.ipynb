{
 "cells": [
  {
   "cell_type": "code",
   "execution_count": 1,
   "metadata": {},
   "outputs": [],
   "source": [
    "import pandas as pd\n",
    "import numpy as np\n",
    "import matplotlib.pyplot as plt\n",
    "import seaborn as sns\n",
    "from sklearn import datasets\n",
    "\n",
    "%run Geometric_Code.ipynb\n",
    "\n",
    "plt.rcParams[\"figure.figsize\"] = (12, 9)"
   ]
  },
  {
   "cell_type": "code",
   "execution_count": 2,
   "metadata": {},
   "outputs": [],
   "source": [
    "# how to generate a 3-layer network if you have a \n",
    "# n_segments = 2*(n_layers-1) + 1 = 2*n_layers-1\n",
    "# n_vertices = 2*n_layers - 2\n",
    "# n_ends = 2\n",
    "# pl = [v0, p1, p2, p3, p4, v5]\n",
    "\n",
    "def network_from_polyline(polyline):\n",
    "    \n",
    "    pl = polyline.copy() # polyline = np.array(2*n_layers x 3)\n",
    "    \n",
    "    n_vert = pl.shape[0]\n",
    "    n_layers = int(n_vert/2)\n",
    "\n",
    "    pl[0] = pl[1] + pl[0]\n",
    "    pl[n_vert-1] = pl[n_vert-2] + pl[n_vert-1]\n",
    "    \n",
    "    W = []\n",
    "    for L in range(1, n_layers, 1): \n",
    "        L1 = n_vert - 1 - L \n",
    "        # L is the current point and L1 is the corresponding point\n",
    "        # need pl[L-1] and pl[L] plus pl[L1] and pl[L1+1]\n",
    "        v_LL1 = pl[L1] - pl[L]\n",
    "        p_L1 = pl[L-1]  + v_LL1 \n",
    "        p_L  = pl[L1+1] - v_LL1\n",
    "        O = point_of_intersection((line_from_pair_of_points((p_L, pl[L])) , line_from_pair_of_points((pl[L1], p_L1))))\n",
    "        source = (pl[L], pl[L1], O)\n",
    "        image = ((1.,0.,1.), (0.,1.,1.), (0.,0.,1.))\n",
    "        W.append(affine_map(source, image))\n",
    "        pl = pl.dot(W[-1].T)\n",
    "    W.append(np.array([1,1,-1]))\n",
    "    return W\n"
   ]
  },
  {
   "cell_type": "code",
   "execution_count": 3,
   "metadata": {},
   "outputs": [],
   "source": [
    "#generate a random polyline that the network can produce geometrically \n",
    "\n",
    "pl = np.array([[0,-1,0],[1,0,1],[1.25,1,1],[0.5,1.5,1],[0,1,1],[-1,0,0]])\n",
    "pl_ = pl.copy()\n",
    "\n",
    "pl_[0,0] = 1\n",
    "pl_[5,1] = 1\n",
    "\n",
    "U = np.array([[1,   -0.25,   1.],\n",
    "              [-0.25, 1.3, 0.25], \n",
    "              [0,0,1]]) \n",
    "#pl = pl.dot(U.T)\n",
    "#pl_ = pl_.dot(U.T)\n"
   ]
  },
  {
   "cell_type": "code",
   "execution_count": 8,
   "metadata": {},
   "outputs": [
    {
     "data": {
      "image/png": "[encoded data removed]",
      "text/plain": [
       "<Figure size 864x648 with 1 Axes>"
      ]
     },
     "metadata": {
      "needs_background": "light"
     },
     "output_type": "display_data"
    }
   ],
   "source": [
    "#plot the points \n",
    "\n",
    "a = 1\n",
    "b = 2 #np.sqrt(3)\n",
    "c = 1\n",
    "eps = 5\n",
    "\n",
    "fig, axs = plt.subplots(1,1)\n",
    "axs.set_aspect('equal')\n",
    "\n",
    "for p in pl_:\n",
    "    axs.plot(p[0], p[1], 'bo')\n",
    "axs.plot(pl_[:,0], pl_[:,1], 'r')\n",
    "#axs.plot([trg_1[0,0], trg_1[0,2]], [trg_1[1,0], trg_1[1,2]], 'r')\n",
    "#axs.plot([trg_1[0,1], trg_1[0,2]], [trg_1[1,1], trg_1[1,2]], 'r')\n",
    "axs.plot([b, 0],[0, 0], 'k')\n",
    "axs.plot([0, 0],[0, a], 'k')\n",
    "\n",
    "plt.grid()\n",
    "plt.show()"
   ]
  },
  {
   "cell_type": "code",
   "execution_count": 13,
   "metadata": {},
   "outputs": [
    {
     "name": "stdout",
     "output_type": "stream",
     "text": [
      "[[1. 0. 0.]\n",
      " [0. 1. 0.]\n",
      " [0. 0. 1.]]\n",
      "[[ 1.14285714 -0.28571429 -0.14285714]\n",
      " [-0.8         0.8         0.2       ]\n",
      " [ 0.          0.          1.        ]]\n",
      "[ 1  1 -1]\n"
     ]
    }
   ],
   "source": [
    "W = network_from_polyline(pl)\n",
    "for i in W:\n",
    "    print(i)"
   ]
  },
  {
   "cell_type": "code",
   "execution_count": 10,
   "metadata": {},
   "outputs": [
    {
     "name": "stdout",
     "output_type": "stream",
     "text": [
      "500\n",
      "[0. 1. 1.]\n",
      "0\n"
     ]
    },
    {
     "data": {
      "image/png": "[encoded data removed]",
      "text/plain": [
       "<Figure size 864x648 with 1 Axes>"
      ]
     },
     "metadata": {
      "needs_background": "light"
     },
     "output_type": "display_data"
    }
   ],
   "source": [
    "#check polyline config\n",
    "\n",
    "fig, axs = plt.subplots(1,1)\n",
    "axs.set_aspect('equal')\n",
    "\n",
    "U = W\n",
    "draw_polyline(axs, U, 5, 0)\n",
    "\n",
    "k = 10\n",
    "n = 1000\n",
    "I = [[-k, k], n]\n",
    "\n",
    "draw_sectors(axs,matrix_list=U,   \n",
    "                colors_list=['g', 'b', 'r'],   \n",
    "                width_list=len(U)*[I],  \n",
    "                height_list=len(U)*[I],  \n",
    "                frame_shape=[[-4.5,4.5],[-4.5,4.5]],  \n",
    "                remove_dotted_list=[False, False, True])\n",
    "\n",
    "plt.grid()\n",
    "plt.show()"
   ]
  },
  {
   "cell_type": "markdown",
   "metadata": {},
   "source": [
    "# NEW MATRIX CONFIG WITH GROUP D"
   ]
  },
  {
   "cell_type": "code",
   "execution_count": 17,
   "metadata": {},
   "outputs": [],
   "source": [
    "d1 = [3,2,1]\n",
    "d2 = [5,4,1]\n",
    "d3 = [7,6,1]\n",
    "\n",
    "D1 = np.diag(d1)\n",
    "D2 = np.diag(d2)\n",
    "D3 = np.diag(d3)\n",
    "\n",
    "D1_ = np.linalg.inv(D1)\n",
    "D2_ = np.linalg.inv(D2)\n",
    "D3_ = np.linalg.inv(D3)"
   ]
  },
  {
   "cell_type": "code",
   "execution_count": 18,
   "metadata": {},
   "outputs": [],
   "source": [
    "w1 = np.array(([1, 0, 0],\n",
    "               [0 ,1, 0],\n",
    "               [0, 0, 1]))\n",
    "\n",
    "w2 = np.array(([ 1.14285714, -0.28571429, -0.14285714],\n",
    "               [-0.8, 0.8, 0.2],\n",
    "               [0, 0, 1]))\n",
    "\n",
    "w3 =np.array(([1, 1, -1]))"
   ]
  },
  {
   "cell_type": "code",
   "execution_count": 19,
   "metadata": {},
   "outputs": [],
   "source": [
    "w11 = np.matmul(D1, w1)\n",
    "w21 = np.matmul(D2,(np.matmul(w2, D1_)))\n",
    "w31 = np.matmul(w3, D2_)"
   ]
  },
  {
   "cell_type": "code",
   "execution_count": 20,
   "metadata": {},
   "outputs": [
    {
     "name": "stdout",
     "output_type": "stream",
     "text": [
      "[array([[1., 0., 0.],\n",
      "       [0., 1., 0.],\n",
      "       [0., 0., 1.]]), array([[ 1.14285714, -0.28571429, -0.14285714],\n",
      "       [-0.8       ,  0.8       ,  0.2       ],\n",
      "       [ 0.        ,  0.        ,  1.        ]]), array([ 1,  1, -1])]\n"
     ]
    }
   ],
   "source": [
    "U2 = [w1,w2,w3]\n",
    "print(U)"
   ]
  },
  {
   "cell_type": "code",
   "execution_count": 21,
   "metadata": {},
   "outputs": [
    {
     "name": "stdout",
     "output_type": "stream",
     "text": [
      "500\n",
      "[0. 1. 1.]\n",
      "0\n"
     ]
    },
    {
     "data": {
      "image/png": "[encoded data removed]",
      "text/plain": [
       "<Figure size 864x648 with 1 Axes>"
      ]
     },
     "metadata": {
      "needs_background": "light"
     },
     "output_type": "display_data"
    }
   ],
   "source": [
    "#check polyline config\n",
    "\n",
    "fig, axs = plt.subplots(1,1)\n",
    "axs.set_aspect('equal')\n",
    "\n",
    "\n",
    "draw_polyline(axs, U2, 5, 0)\n",
    "\n",
    "k = 10\n",
    "n = 1000\n",
    "I = [[-k, k], n]\n",
    "\n",
    "draw_sectors(axs,matrix_list=U2,   \n",
    "                colors_list=['g', 'b', 'r'],   \n",
    "                width_list=len(U)*[I],  \n",
    "                height_list=len(U)*[I],  \n",
    "                frame_shape=[[-4.5,4.5],[-4.5,4.5]],  \n",
    "                remove_dotted_list=[False, False, True])\n",
    "\n",
    "plt.grid()\n",
    "plt.show()"
   ]
  },
  {
   "cell_type": "code",
   "execution_count": null,
   "metadata": {},
   "outputs": [],
   "source": []
  }
 ],
 "metadata": {
  "kernelspec": {
   "display_name": "Python [conda env:cnn]",
   "language": "python",
   "name": "conda-env-cnn-py"
  },
  "language_info": {
   "codemirror_mode": {
    "name": "ipython",
    "version": 3
   },
   "file_extension": ".py",
   "mimetype": "text/x-python",
   "name": "python",
   "nbconvert_exporter": "python",
   "pygments_lexer": "ipython3",
   "version": "3.9.7"
  }
 },
 "nbformat": 4,
 "nbformat_minor": 2
}
