{
 "cells": [
  {
   "cell_type": "code",
   "execution_count": 1,
   "metadata": {},
   "outputs": [],
   "source": [
    "import pandas as pd\n",
    "import numpy as np\n",
    "import matplotlib.pyplot as plt\n",
    "import seaborn as sns\n",
    "import os\n",
    "\n",
    "plt.rcParams[\"figure.figsize\"] = (7, 7)"
   ]
  },
  {
   "cell_type": "markdown",
   "metadata": {},
   "source": [
    "**Package of external functions, used by the polyline, axis and sector objects:**"
   ]
  },
  {
   "cell_type": "code",
   "execution_count": 2,
   "metadata": {},
   "outputs": [],
   "source": [
    "def perp(vector): # rotates a vector 90 degrees counter clock-wise\n",
    "    return np.array([- vector[1], vector[0], 0.])\n",
    "\n",
    "def int_x(origin, direction): # finds the intersection point between a line and a the x-axis\n",
    "    x = origin[0] - ( origin[1] / direction[1] ) * direction[0]\n",
    "    return np.array([x, 0., 1.]) \n",
    "\n",
    "def int_y(origin, direction): # finds the intersection point between a line and the y-axis\n",
    "    y = origin[1] - ( origin[0] / direction[0] ) * direction[1]\n",
    "    return np.array([0., y, 1.])\n",
    "\n",
    "def line_int_0(line): # finds the intersection point between a line and the x-axis\n",
    "    return np.array([- line[2] / line[0], 0., 1.])\n",
    "\n",
    "def line_int_1(line): # finds the intersection point between a line and a the y-axis\n",
    "    return np.array([0., - line[2] / line[1], 1.])\n",
    "\n",
    "def intersect(origin, direction):\n",
    "    x = origin[0] - ( origin[1] / direction[1] ) * direction[0]\n",
    "    y = origin[1] - ( origin[0] / direction[0] ) * direction[1]\n",
    "    return np.array([[x, 0., 1.], [0., y, 1.]])\n",
    "\n",
    "def make_line_array(point, direction, interval, number_of_nodes):\n",
    "    u_dir = direction / np.linalg.norm(direction)\n",
    "    ds = np.linspace(interval[0], interval[1], number_of_nodes)\n",
    "    ds = ds[:,np.newaxis]\n",
    "    line_array = point[np.newaxis,:] + ds.dot(u_dir[np.newaxis,:])\n",
    "    return line_array\n",
    "\n",
    "def matrix_from_weights(weights, bias):\n",
    "    W = np.hstack((weights, bias[:, np.newaxis]))\n",
    "    W = np.vstack((W, np.array([0,0,1])))\n",
    "    return W\n",
    "\n",
    "def organize_input(weights, bias, final_layer=True):\n",
    "    n = len(weights)-1\n",
    "    W = []\n",
    "    for i in range(n):\n",
    "        W.append(matrix_from_weights(weights[i], bias[i]))\n",
    "    if final_layer:\n",
    "        W.append(np.array([ weights[n][0],  weights[n][1],  bias[n][0]]))\n",
    "    return W"
   ]
  },
  {
   "cell_type": "markdown",
   "metadata": {},
   "source": [
    "**The polyline class:**"
   ]
  },
  {
   "cell_type": "code",
   "execution_count": 3,
   "metadata": {},
   "outputs": [],
   "source": [
    "class polyline:\n",
    "    def __init__(self):\n",
    "        self.points = np.array([])\n",
    "    def initialize(self, line):\n",
    "        e_x = np.array([1,  0., 0.])\n",
    "        e_y = np.array([0., 1., 0.])\n",
    "        O   = np.array([0., 0., 1.])\n",
    "        if abs(line[1]) < 1e-12: # vertical line\n",
    "            X = line_int_x(line)\n",
    "            if X[0] >= 0.:\n",
    "                self.points = np.array([-e_y, X,  e_y])\n",
    "            else: \n",
    "                self.points = np.array([-e_y, O, -e_x])\n",
    "        elif abs(line[0]) < 1e-12: # line is horizontal\n",
    "            Y = line_int_y(line)\n",
    "            if Y[1] >= 0.:\n",
    "                self.points = np.array([ e_x, Y, -e_x])\n",
    "            else: \n",
    "                self.points = np.array([-e_y, O, -e_x])\n",
    "        else: # line is in general position\n",
    "            X = line_int_0(line)\n",
    "            Y = line_int_1(line)\n",
    "            if X[0] >= 0. and Y[1] >= 0.:\n",
    "                self.points = np.array([-e_y, X, Y, -e_x])\n",
    "            elif X[0] >= 0. and Y[1] < 0.:\n",
    "                v =  np.array([line[1], -line[0], 0.])\n",
    "                v = np.sign(v[0]) * v\n",
    "                self.points = np.array([-e_y, X, v])\n",
    "            elif X[0] < 0. and Y[1] >= 0.:\n",
    "                v =  np.array([line[1], -line[0], 0.])\n",
    "                v = np.sign(v[0]) * v\n",
    "                self.points = np.array([ v, Y, -e_x])\n",
    "            else:\n",
    "                self.points = np.array([-e_y, O, -e_x])\n",
    "            return None\n",
    "    def print_out(self):\n",
    "        print(self.points)\n",
    "        return None\n",
    "    def clone(self):\n",
    "        new = polyline()\n",
    "        new.points = self.points.copy()\n",
    "        return None\n",
    "    def push_forward(self, W):\n",
    "        self.points = self.points.dot(W.T)\n",
    "        return None\n",
    "    def pull_back(self, W):\n",
    "        self.points = self.points.dot(np.linalg.inv(W).T)\n",
    "        return None\n",
    "    def crop(self):\n",
    "        e_x = np.array([1,  0., 0.])\n",
    "        e_y = np.array([0., 1., 0.])\n",
    "        n_points = self.points.shape[0]\n",
    "        res = []\n",
    "        for i in range(n_points-1):\n",
    "            p_0 = self.points[i,:]\n",
    "            p_1 = self.points[i+1,:]\n",
    "            if abs(p_0[2]-1.) < 1e-12 and abs(p_1[2]-1.) < 1e-12: # both are finite points!\n",
    "                if p_0[0] >= 0. and p_0[1] >= 0.: # p_0 is in quadrant 1\n",
    "                    if p_1[0] >= 0. and p_1[1] >= 0.: # p_1 is also in pquadrant \n",
    "                        res.append(p_1)\n",
    "                    else: # p_1 is outside quadrant 1\n",
    "                        v = p_1-p_0\n",
    "                        if perp(p_0).dot(v) <= 0.: \n",
    "                            X = int_x(p_0, v)\n",
    "                            res.extend([X, -e_y])\n",
    "                        else:\n",
    "                            Y = int_y(p_0, v)\n",
    "                            res.extend([Y, -e_x])\n",
    "                elif p_1[0] >= 0. and p_1[1] >= 0.: # p_1 is in quadrant 1, but p_0 is not!\n",
    "                    v_ = p_0 - p_1 \n",
    "                    if perp(p_1).dot(v_) <= 0.: \n",
    "                        X = int_x(p_1, v_)\n",
    "                        res.extend([-e_y, X, p_1])\n",
    "                    else:\n",
    "                        Y = int_y(p_1, v_)\n",
    "                        res.extend([-e_x, Y, p_1])\n",
    "                else: # both p_0 and p_1 are outside the positive sector\n",
    "                    # check if tere are two intersection points or none!\n",
    "                    if p_0[0] > 0. and p_1[1] > 0.: # p_0 in quadrant 4, p_1 in quadrant 2\n",
    "                        intercepts = intersect(p_0,  p_1 - p_0)                        \n",
    "                        if np.all(intercepts >= 0.):\n",
    "                            res.extend([-e_y, intercepts[0,:], intercepts[1,:], -e_x])\n",
    "                    elif p_0[1] > 0. and p_1[0] > 0.: # p_0 in quadrant 2, p_1 in quadrant 4\n",
    "                        intercepts = intersect(p_0,  p_1 - p_0) \n",
    "                        if np.all(intercepts >= 0.):\n",
    "                            res.extend([-e_x, intercepts[1,:], intercepts[0,:], -e_y])                            \n",
    "            elif abs(p_0[2]-1.) < 1e-12 and abs(p_1[2]) < 1e-12: # p_0 is a finite point, but p_1 is a direction!\n",
    "                if p_0[0] >= 0. and p_0[1] >= 0.: # p_0 is in quadrant 1\n",
    "                    if p_1[0] >= 0. and p_1[1] >= 0.: # vector p_1 points inside quadrant 1    \n",
    "                        res.append(p_1)\n",
    "                    elif perp(p_0).dot(p_1) <= 0.: \n",
    "                        X = int_x(p_0, p_1)\n",
    "                        res.extend([X, -e_y])\n",
    "                    else:\n",
    "                        Y = int_y(p_0, p_1) \n",
    "                        res.extend([Y, -e_x]) \n",
    "                elif p_0[0] < 0. and p_0[1] >= 0. and p_1[0] >= 0. and perp(p_0).dot(p_1) <= 0.: # p_0 in quadratn 2\n",
    "                    Y = int_y(p_0, p_1)\n",
    "                    res.extend([-e_x, Y, p_1])\n",
    "                elif p_0[0] >= 0. and p_0[1] < 0. and p_1[1] >= 0. and perp(p_0).dot(p_1) >= 0.: # p_0 in quadrant 4\n",
    "                    X = int_x(p_0, p_1)\n",
    "                    res.extend([-e_y, X, p_1])\n",
    "                elif p_0[0] < 0. and p_0[1] < 0.: # p_0 in quadrant 3\n",
    "                    if p_0[0] >= 0. and perp(p_1).dot(p_0) <= 0.:\n",
    "                        Y = int_y(p_0, p_1)\n",
    "                        res.extend([-e_x, Y, p_1])\n",
    "                    elif p_0[1] >= 0. and perp(p_1).dot(p_0) >= 0.:\n",
    "                        X = int_x(p_0, p_1)\n",
    "                        res.extend([-e_y, X, p_1])                    \n",
    "            elif abs(p_0[2]) < 1e-12 and abs(p_1[2]-1) < 1e-12: # p_1 is a finite point, but p_0 is a direction!\n",
    "                if p_1[0] >= 0. and p_1[1] >= 0.:# p_1 is in quadrant 1\n",
    "                    if p_0[0] >= 0. and p_0[1] >= 0.: # p_0 points in quadrant 1\n",
    "                        res.extend([p_0, p_1])                        \n",
    "                    elif perp(p_1).dot(p_0) <= 0.: \n",
    "                        X = int_x(p_1, p_0)\n",
    "                        res.extend([-e_y, X, p_1])\n",
    "                    else:\n",
    "                        Y = int_y(p_1, p_0)\n",
    "                        res.extend([-e_x, Y, p_1])                        \n",
    "                elif p_1[0] < 0. and p_1[1] >= 0. and p_0[0] >= 0. and perp(p_1).dot(p_0) <= 0.: # p_1 in quadrant 2\n",
    "                    Y = int_y(p_1, p_0)\n",
    "                    res.extend([p_0, Y, -e_x])\n",
    "                elif p_1[0] >= 0. and p_1[1] < 0. and p_0[1] >= 0. and perp(p_1).dot(p_0) >= 0.: # p_1 in quadrant 4\n",
    "                    X = int_x(p_1, p_0)\n",
    "                    res.extend([p_0, X, -e_y])\n",
    "                elif p_1[0] < 0. and p_1[1] < 0.: # p_1 in squadrant 3\n",
    "                    if p_0[0] >= 0. and perp(p_1).dot(p_0) <= 0.:\n",
    "                        Y = int_y(p_1, p_0)\n",
    "                        res.extend([p_0, Y, -e_x])\n",
    "                    elif p_0[1] >= 0. and perp(p_1).dot(p_0) >= 0.:\n",
    "                        X = int_x(p_1, p_0)\n",
    "                        res.extend([p_0, X, -e_y])                        \n",
    "        if len(res) == 0.:\n",
    "            res = [-e_y , [0.,0.,1.], e_x]\n",
    "        self.points = np.array(res)\n",
    "        return None    \n",
    "    def plot(self, axs, length_of_ends):\n",
    "        points = self.points.copy()\n",
    "        n_points = points.shape[0]\n",
    "        points[0,:] = points[1,:] + length_of_ends*points[0,:] / np.linalg.norm(points[0,:])\n",
    "        points[n_points-1,:] = points[n_points-2,:] + length_of_ends*points[n_points-1,:] / np.linalg.norm(points[n_points-1,:])\n",
    "        #fig, axs = plt.subplots(1,1)\n",
    "        axs.set_aspect('equal')\n",
    "        axs.plot(points[:,0], points[:,1], 'r')\n",
    "        for point in points:\n",
    "            axs.plot(point[0], point[1], 'bo')\n",
    "        return None"
   ]
  },
  {
   "cell_type": "markdown",
   "metadata": {},
   "source": [
    "**The axis class:**"
   ]
  },
  {
   "cell_type": "code",
   "execution_count": 4,
   "metadata": {},
   "outputs": [],
   "source": [
    "class axis:\n",
    "    \n",
    "    def __init__(self, horizontal_or_vertical):\n",
    "        \n",
    "        if horizontal_or_vertical == 0:\n",
    "            v = np.array([1., 0., 0.])\n",
    "            a = np.array([[-1., 0., 1.], [0.,0.,1.], [1., 0., 1.]])\n",
    "        else:\n",
    "            v = np.array([0., 1., 0.])\n",
    "            a = np.array([[ 0.,1.,1.], [0.,0.,1.], [ 0.,1.,1.]])\n",
    "            \n",
    "        self.origin = np.array([0.,0.,1])\n",
    "        self.i_o = 1\n",
    "        self.direction = v\n",
    "        self.array = a\n",
    "        self.dotted = np.array([True, False, False])\n",
    "        self.i_dotted = np.array([0, 1])\n",
    "        self.solid = np.array([False, True, True])\n",
    "        self.i_solid = np.array([1, 3])\n",
    "        \n",
    "        return None \n",
    "    \n",
    "    def subdiv(self, interval, number_of_points):\n",
    "        a = np.linspace(interval[0], interval[1], number_of_points)\n",
    "        e =  np.ones( a.size,  dtype=float )\n",
    "        o = np.zeros( a.size,  dtype=float ) \n",
    "        self.dotted = a < 0.      \n",
    "        self.i_dotted = np.where(a < 0.)[0]\n",
    "        self.i_dotted  = [self.i_dotted[0], self.i_dotted[-1]+1]\n",
    "        self.solid = a >= 0.  \n",
    "        self.i_solid = np.where(a >= 0.)[0]\n",
    "        self.i_solid  = [self.i_solid[0], self.i_solid[-1]+1]\n",
    "        self.i_o = np.where(self.solid)[0][0]\n",
    "        if abs(self.direction[1]) < 1e-12:\n",
    "            a = np.array([a, o, e]).T\n",
    "        else:\n",
    "            a = np.array([o, a, e]).T\n",
    "        self.array = a\n",
    "        return None\n",
    "    \n",
    "    def get_origin(self):\n",
    "        return self.origin\n",
    "    def get_i_o(self):\n",
    "        return self.i_o\n",
    "    def get_points(self):\n",
    "        return self.array\n",
    "    def get_direction(self):\n",
    "        return self.direction\n",
    "    \n",
    "    def clone(self, horizontal_or_vertical=0):\n",
    "        new = axis(horizontal_or_vertical)\n",
    "        new.origin = self.origin.copy()\n",
    "        new.i_o= self.i_o\n",
    "        new.direction = self.direction.copy() \n",
    "        new.array = self.array.copy()               \n",
    "        new.dotted = self.dotted.copy()\n",
    "        new.i_dotted = self.i_dotted.copy()\n",
    "        new.solid = self.solid.copy()\n",
    "        new.i_solid = self.i_solid.copy()\n",
    "        return new\n",
    "    \n",
    "    def push_forward(self, W):\n",
    "        W_T = W.T\n",
    "        self.origin = self.origin.dot(W_T)\n",
    "        self.direction = self.direction.dot(W_T) \n",
    "        self.array = self.array.dot(W_T)\n",
    "        return None\n",
    "    \n",
    "    def pull_back(self, W):\n",
    "        W_T_ = np.linalg.inv(W).T\n",
    "        self.origin = self.origin.dot(W_T_)\n",
    "        self.direction = self.direction.dot(W_T_) \n",
    "        self.array = self.array.dot(W_T_)\n",
    "        return None\n",
    "    \n",
    "    def crop(self): \n",
    "        if np.any(self.solid): # or maybe len(self.i_solid) > 0\n",
    "        # if nothing solid is visible then we are in a situation o---, leave it as is\n",
    "        # else if something solid is visible, cropping is needed:\n",
    "            in_sector = np.logical_and(self.array[:,0] >= 0.,  self.array[:,1] >= 0.) \n",
    "            if self.origin[0] <= 0. or self.origin[1] <= 0.: \n",
    "            # origin is outside positive sector  \n",
    "                self.solid = np.logical_and(self.solid, in_sector)\n",
    "                if np.any(self.solid): \n",
    "                    # if there is still something solid left after cropping, \n",
    "                    # readjust self.solid and self.dotted\n",
    "                    self.i_solid = np.where(self.solid)[0]\n",
    "                    self.i_solid = [self.i_solid[0], self.i_solid[-1]+1]\n",
    "                    self.i_dotted = [self.i_o, self.i_solid[0]]\n",
    "                    self.solid = np.full(self.array.shape[0], False)\n",
    "                    self.solid[ self.i_solid[0] : self.i_solid[1] ] = True\n",
    "                    self.dotted = np.full(self.array.shape[0], False)\n",
    "                    self.dotted[ self.i_dotted[0] : self.i_dotted[1] ] = True\n",
    "                else: \n",
    "                    # if there is nothing solid left\n",
    "                    self.i_solid = []\n",
    "                    self.i_dotted = [self.i_o, self.array.shape[0]]\n",
    "                    self.dotted = np.full(self.array.shape[0], False)\n",
    "                    self.dotted[ self.i_dotted[0] : self.i_dotted[1] ] = True \n",
    "            else: \n",
    "            # origin is inside the positive sector\n",
    "                self.solid = np.logical_and(self.solid, in_sector)\n",
    "                self.dotted = np.logical_and(self.dotted, in_sector)\n",
    "                self.i_solid = np.where(self.solid)[0]\n",
    "                self.i_solid = [self.i_solid[0], self.i_solid[-1]+1]\n",
    "                self.i_dotted = np.where(self.dotted)[0]\n",
    "                if len(self.i_dotted) != 0:\n",
    "                    self.i_dotted = [self.i_dotted[0], self.i_dotted[-1]+1]\n",
    "                else: \n",
    "                    self.i_dotted = []\n",
    "        return None\n",
    "    \n",
    "    def plot(self, axs, layer_color, frame_shape, plot_origin=True, only_solid=False):\n",
    "        width = frame_shape[0] # an interval along the horizontal axis\n",
    "        height  = frame_shape[1] # an interval along the vertical axis\n",
    "        visible = np.logical_and(width[0] <= self.array[:,0], self.array[:,0] <= width[1])\n",
    "        visible = np.logical_and(height[0] <= self.array[:,1], visible)\n",
    "        visible = np.logical_and(visible, self.array[:,1] <= height[1])\n",
    "        if np.any(self.dotted) and not only_solid:\n",
    "            dotted_visible = np.logical_and(self.dotted, visible)\n",
    "            if np.any(dotted_visible):\n",
    "                axs.plot(self.array[ dotted_visible, 0], self.array[ dotted_visible, 1], layer_color+'--')\n",
    "        if np.any(self.solid):\n",
    "            solid_visible = np.logical_and(self.solid, visible)\n",
    "            if np.any(solid_visible):\n",
    "                axs.plot(self.array[ solid_visible, 0], self.array[ solid_visible, 1], layer_color)\n",
    "        if plot_origin:\n",
    "            axs.plot(self.origin[0], self.origin[1], layer_color+'o')\n",
    "        return None\n",
    "    \n",
    "    def build_from_line(self, line, length_and_n_points):\n",
    "        interval = length_and_n_points[0]\n",
    "        number_of_points = length_and_n_points[1]\n",
    "        v = np.array([line[1], -line[0], 0.])\n",
    "        if abs(v[0]) > 1e-10:\n",
    "            self.origin = line_int_1(line)\n",
    "            self.origin[1] = abs(self.origin[1]) \n",
    "            self.direction = np.sign(v[0]) * v\n",
    "            self.array = make_line_array(self.origin, self.direction, interval, number_of_points)\n",
    "            self.dotted = self.array[:,0] < 0. \n",
    "            self.i_dotted = np.where(self.dotted)[0]\n",
    "            self.i_dotted = [self.i_dotted[0], self.i_dotted[-1]]\n",
    "            self.solid = np.logical_not(self.dotted)\n",
    "            self.i_solid = np.where(self.solid)[0]\n",
    "            self.i_solid = [self.i_solid[0], self.i_solid[-1]]\n",
    "            self.i_o = self.i_solid[0]\n",
    "        else:\n",
    "            self.origin = line_int_0(line)\n",
    "            self.origin[0] = abs(self.origin[0]) \n",
    "            self.direction = np.sign(v[1]) * v\n",
    "            self.array = make_line_array(self.origin, self.direction, interval, number_of_points)\n",
    "            self.dotted = self.array[:,1] < 0. \n",
    "            self.i_dotted = np.where(self.dotted)[0]\n",
    "            self.i_dotted = [self.i_dotted[0], self.i_dotted[-1]]\n",
    "            self.solid = np.logical_not(self.dotted)\n",
    "            self.i_solid = np.where(self.solid)[0]\n",
    "            self.i_solid = [self.i_solid[0], self.i_solid[-1]]\n",
    "            self.i_o = self.i_solid[0]\n",
    "        return None"
   ]
  },
  {
   "cell_type": "markdown",
   "metadata": {},
   "source": [
    "**The sector class:**"
   ]
  },
  {
   "cell_type": "code",
   "execution_count": 5,
   "metadata": {},
   "outputs": [],
   "source": [
    "class sector:\n",
    "    def __init__(self):\n",
    "        self.axis_0 = axis(0)\n",
    "        self.axis_1 = axis(1)\n",
    "        return None\n",
    "    def subdiv(self, width, height):\n",
    "        self.axis_0.subdiv(width[0], width[1])\n",
    "        self.axis_1.subdiv(height[0], height[1])\n",
    "        return None\n",
    "    def clone(self):\n",
    "        new = sector()\n",
    "        new.axis_0 = self.axis_0.clone()\n",
    "        new.axis_1 = self.axis_1.clone()\n",
    "        return new\n",
    "    def get_origin(self):\n",
    "        return self.axis_0.get_origin()\n",
    "    def get_directions(self):\n",
    "        return np.array([self.axis_0.direction, self.axis_1.direction])\n",
    "    def pull_back(self, W):\n",
    "        self.axis_0.pull_back(W)\n",
    "        self.axis_1.pull_back(W)\n",
    "        return None\n",
    "    def push_forward(self, W):\n",
    "        self.axis_0.push_forward(W)\n",
    "        self.axis_1.push_forward(W)\n",
    "        return None\n",
    "    def crop(self):\n",
    "        self.axis_0.crop() \n",
    "        self.axis_1.crop() \n",
    "        return None\n",
    "    def plot(self,  axs,  layer_colors,  frame_shape,\n",
    "                   plot_origin=True, only_solid_0=False, only_solid_1=False):\n",
    "        if type(layer_colors) == list:\n",
    "            self.axis_0.plot(axs, layer_colors[0], frame_shape, plot_origin, only_solid_0)\n",
    "            self.axis_1.plot(axs, layer_colors[1], frame_shape, plot_origin, only_solid_1)\n",
    "        elif type(layer_colors) == str:\n",
    "            self.axis_0.plot(axs, layer_colors, frame_shape, plot_origin, only_solid_0)\n",
    "            self.axis_1.plot(axs, layer_colors, frame_shape, plot_origin, only_solid_1)\n",
    "        return None\n"
   ]
  },
  {
   "cell_type": "markdown",
   "metadata": {},
   "source": [
    "**The actual program that draws the configuration of all layers in the original data space:**"
   ]
  },
  {
   "cell_type": "code",
   "execution_count": 6,
   "metadata": {},
   "outputs": [],
   "source": [
    "def draw_sectors(axs,   matrix_list,   colors_list,   width_list,  height_list,  frame_shape,  remove_dotted_list): \n",
    "    n_layers = len(matrix_list)\n",
    "    a = axis(0)\n",
    "    a.build_from_line(matrix_list[n_layers-1], width_list[n_layers-1])\n",
    "    print(len(np.where(a.dotted)[0]))\n",
    "    print(a.origin)\n",
    "    #return None\n",
    "    a.crop()\n",
    "    print(len(np.where(a.dotted)[0]))\n",
    "    #return None\n",
    "    layers_list = [a]\n",
    "    for i in range(n_layers-2, -1, -1):\n",
    "        layer = sector()\n",
    "        layer.subdiv(width_list[i], height_list[i])\n",
    "        layers_list.append(layer)\n",
    "        for j in range(len(layers_list)):\n",
    "            layers_list[j].pull_back(matrix_list[i])\n",
    "            if i > 0:\n",
    "                layers_list[j].crop()\n",
    "    axs.set_aspect('equal')\n",
    "    n_i = n_layers - 1\n",
    "    if remove_dotted_list[n_layers-1]: #only_solid_list[n_layers-1]:\n",
    "        layers_list[0].plot(axs, colors_list[n_i], frame_shape, plot_origin=False, only_solid=True)\n",
    "    else:\n",
    "        layers_list[0].plot(axs, colors_list[n_i], frame_shape) \n",
    "    for i in range(1, n_layers):\n",
    "        n_i = n_layers - i - 1\n",
    "        if remove_dotted_list[n_i]:\n",
    "            layers_list[i].plot(axs, colors_list[n_i], frame_shape, plot_origin=False, only_solid_0=True, only_solid_1=True)\n",
    "        else:\n",
    "            layers_list[i].plot(axs, colors_list[n_i], frame_shape) \n",
    "    return None"
   ]
  },
  {
   "cell_type": "markdown",
   "metadata": {},
   "source": [
    "**The actual program that draws the configuration of all layers in the original data space:**"
   ]
  },
  {
   "cell_type": "code",
   "execution_count": 7,
   "metadata": {},
   "outputs": [],
   "source": [
    "def draw_polyline(axs,  matrix_list, length_of_ends, layer_to_plot=0):\n",
    "    n_layers = len(matrix_list)\n",
    "    pl = polyline()\n",
    "    pl.initialize(matrix_list[n_layers-1])\n",
    "    if layer_to_plot==n_layers-1:\n",
    "        pl.plot(axs, length_of_ends)\n",
    "        return None\n",
    "    for n_i in range(n_layers-2, layer_to_plot, -1):\n",
    "        pl.pull_back(matrix_list[n_i])\n",
    "        pl.crop()\n",
    "    pl.pull_back(matrix_list[layer_to_plot]) \n",
    "    if layer_to_plot!=0: # layer 0\n",
    "        pl.crop()\n",
    "    pl.plot(axs, length_of_ends)\n",
    "    return None"
   ]
  },
  {
   "cell_type": "markdown",
   "metadata": {},
   "source": [
    "**Tests involving the polyline class:**"
   ]
  },
  {
   "cell_type": "code",
   "execution_count": 8,
   "metadata": {},
   "outputs": [
    {
     "name": "stdout",
     "output_type": "stream",
     "text": [
      "2500\n",
      "[0. 1. 1.]\n",
      "0\n"
     ]
    },
    {
     "data": {
      "image/png": "[encoded data removed]",
      "text/plain": [
       "<Figure size 504x504 with 1 Axes>"
      ]
     },
     "metadata": {
      "needs_background": "light"
     },
     "output_type": "display_data"
    }
   ],
   "source": [
    "U = matrix_from_weights(np.array([[1,-0.25],[-0.25,1]]).T, np.array([0,0]))\n",
    "U_ = np.linalg.inv(U)\n",
    "\n",
    "W = [U_, U.dot(U), U_, np.array([1,2,-2])]\n",
    "\n",
    "\n",
    "\n",
    "fig, axs = plt.subplots(1,1)\n",
    "\n",
    "draw_polyline(axs, W, 1, 0)\n",
    "\n",
    "k = 50\n",
    "n = 5000\n",
    "I = [[-k, k], n]\n",
    "\n",
    "draw_sectors(axs,matrix_list=W,   \n",
    "                colors_list=['y', 'c', 'b', 'r'],   \n",
    "                width_list=len(W)*[I],  \n",
    "                height_list=len(W)*[I],  \n",
    "                frame_shape=[[-1,2],[-1,2]],  \n",
    "                remove_dotted_list=[False, False, False, True])\n",
    "\n",
    "\n",
    "\n",
    "#a, b = 2, 2\n",
    "#axs.plot([0, a], [0, 0], 'k')\n",
    "#axs.plot([0, 0], [0, b], 'k')\n",
    "\n",
    "#axs.plot([0,pl.points[0,0]], [0,pl.points[0,1]], 'r')\n",
    "#axs.plot(pl.points[0,0], pl.points[0,1], 'bo')\n",
    "\n",
    "plt.grid()\n",
    "plt.show()"
   ]
  },
  {
   "cell_type": "code",
   "execution_count": 9,
   "metadata": {},
   "outputs": [
    {
     "name": "stdout",
     "output_type": "stream",
     "text": [
      "2500\n",
      "[ 0. 10.  1.]\n",
      "0\n"
     ]
    },
    {
     "data": {
      "image/png": "[encoded data removed]",
      "text/plain": [
       "<Figure size 504x504 with 1 Axes>"
      ]
     },
     "metadata": {
      "needs_background": "light"
     },
     "output_type": "display_data"
    }
   ],
   "source": [
    "def congr(angle, vector_2d):\n",
    "    ca = np.cos(np.pi*angle/180)\n",
    "    sa = np.sin(np.pi*angle/180)\n",
    "    return np.array([[ca,-sa,  vector_2d[0]], [sa, ca,  vector_2d[1]], [0.,0.,1.]])\n",
    "\n",
    "W = [congr(-30, [-0.1, 0.1]), congr(20, [2, -0.5]), congr(-10, [-2, -2]), np.array([7, 0.5, -5])]\n",
    "\n",
    "k = 50\n",
    "n = 5000\n",
    "I = [[-k, k], n]\n",
    "\n",
    "fig, axs = plt.subplots(1,1)\n",
    "axs.set_aspect('equal')\n",
    "\n",
    "\n",
    "pl = draw_polyline(axs, W, 1, 0)\n",
    "\n",
    "\n",
    "draw_sectors(axs,matrix_list=W,   \n",
    "                colors_list=['y', 'c', 'b', 'r'],   \n",
    "                width_list=len(W)*[I],  \n",
    "                height_list=len(W)*[I],  \n",
    "                frame_shape=[[-4,14],[-4,14]],  \n",
    "                remove_dotted_list=[False, False, False, True])\n",
    "\n",
    "\n",
    "#a, b = 2, 2\n",
    "#axs.plot([0, a], [0, 0], 'k')\n",
    "#axs.plot([0, 0], [0, b], 'k')\n",
    "\n",
    "#axs.plot([0,pl.points[0,0]], [0,pl.points[0,1]], 'r')\n",
    "#axs.plot(pl.points[0,0], pl.points[0,1], 'bo')\n",
    "\n",
    "plt.grid()\n",
    "plt.show()"
   ]
  },
  {
   "cell_type": "markdown",
   "metadata": {},
   "source": [
    "**Test with well clustered data and three layers:**"
   ]
  },
  {
   "cell_type": "code",
   "execution_count": 10,
   "metadata": {},
   "outputs": [],
   "source": [
    "weights1 = np.array(([0.1532, -0.4506],\n",
    "                     [-0.2035, -0.2523]))\n",
    "\n",
    "weights2 = np.array(([ 0.3024,  0.1265],\n",
    "                     [-0.5793,  2.8742]))\n",
    "\n",
    "\n",
    "weights3 = np.array([0.4654, -2.8651])\n",
    "#weights3 = np.array(([5.3234, 0.4654]))\n",
    "\n",
    "\n",
    "bias1 = np.array(([-0.0394,  \n",
    "                   2.9368]))\n",
    "\n",
    "bias2 = np.array(([-4.3833e-01, \n",
    "                   -4.1123e-05]))\n",
    "\n",
    "weights3 = np.array([0.4654, -2.8651])\n",
    "bias3 = np.array(([5.3234]))\n",
    "\n",
    "weights = [weights1, weights2, weights3]\n",
    "bias = [bias1, bias2, bias3]"
   ]
  },
  {
   "cell_type": "code",
   "execution_count": 11,
   "metadata": {},
   "outputs": [
    {
     "name": "stdout",
     "output_type": "stream",
     "text": [
      "[[ 0.1532 -0.4506 -0.0394]\n",
      " [-0.2035 -0.2523  2.9368]\n",
      " [ 0.      0.      1.    ]]\n",
      "[[ 3.0240e-01  1.2650e-01 -4.3833e-01]\n",
      " [-5.7930e-01  2.8742e+00 -4.1123e-05]\n",
      " [ 0.0000e+00  0.0000e+00  1.0000e+00]]\n",
      "[ 0.4654 -2.8651  5.3234]\n"
     ]
    }
   ],
   "source": [
    "W = organize_input(weights, bias)\n",
    "for w in W:\n",
    "    print(w)"
   ]
  },
  {
   "cell_type": "code",
   "execution_count": 12,
   "metadata": {},
   "outputs": [
    {
     "name": "stdout",
     "output_type": "stream",
     "text": [
      "(200, 3)\n"
     ]
    }
   ],
   "source": [
    "path=\"/users/kent/stadiset/Research Work/ReLU/Datasets/\"\n",
    "data = pd.read_csv(path+\"score.csv\")\n",
    "x = data.to_numpy()\n",
    "#print(x[0:5,:])\n",
    "print(x.shape)"
   ]
  },
  {
   "cell_type": "code",
   "execution_count": 20,
   "metadata": {},
   "outputs": [
    {
     "name": "stdout",
     "output_type": "stream",
     "text": [
      "2500\n",
      "[0.         1.85801543 1.        ]\n",
      "0\n"
     ]
    },
    {
     "data": {
      "image/png": "[encoded data removed]",
      "text/plain": [
       "<Figure size 504x504 with 1 Axes>"
      ]
     },
     "metadata": {
      "needs_background": "light"
     },
     "output_type": "display_data"
    }
   ],
   "source": [
    "k = 50\n",
    "n = 5000\n",
    "I = [[-k, k], n]\n",
    "\n",
    "fig, axs = plt.subplots(1,1)\n",
    "axs.set_aspect('equal')\n",
    "\n",
    "plt.scatter(x[:, 0][x[:,2]==1], x[:, 1][x[:,2]==1], color='g')\n",
    "plt.scatter(x[:, 0][x[:,2]==0], x[:, 1][x[:,2]==0], color='orange')\n",
    "\n",
    "draw_sectors(axs,matrix_list=W,   \n",
    "                colors_list=['y', 'b', 'r'],   \n",
    "                width_list=len(W)*[I],  \n",
    "                height_list=len(W)*[I],  \n",
    "                frame_shape=[[-20,20],[-20,20]],  \n",
    "                remove_dotted_list=[False, False, True])\n",
    "\n",
    "draw_polyline(axs, W, 10)\n",
    "\n",
    "#a, b = 2, 2\n",
    "#axs.plot([0, a], [0, 0], 'k')\n",
    "#axs.plot([0, 0], [0, b], 'k')\n",
    "\n",
    "#axs.plot([0,pl.points[0,0]], [0,pl.points[0,1]], 'r')\n",
    "#axs.plot(pl.points[0,0], pl.points[0,1], 'bo')\n",
    "\n",
    "plt.grid()\n",
    "plt.show()"
   ]
  },
  {
   "cell_type": "code",
   "execution_count": 14,
   "metadata": {},
   "outputs": [
    {
     "data": {
      "image/png": "[encoded data removed]",
      "text/plain": [
       "<Figure size 504x504 with 1 Axes>"
      ]
     },
     "metadata": {
      "needs_background": "light"
     },
     "output_type": "display_data"
    }
   ],
   "source": [
    "fig, axs = plt.subplots(1,1)\n",
    "axs.set_aspect('equal')\n",
    "\n",
    "#plt.scatter(x[:, 0][x[:,2]==1], x[:, 1][x[:,2]==1], color='g')\n",
    "#plt.scatter(x[:, 0][x[:,2]==0], x[:, 1][x[:,2]==0], color='orange')\n",
    "\n",
    "\n",
    "draw_polyline(axs, W, 5, 2)\n",
    "\n",
    "a, b = 2, 2\n",
    "axs.plot([0, a], [0, 0], 'k')\n",
    "axs.plot([0, 0], [0, b], 'k')\n",
    "\n",
    "#axs.plot([0,pl.points[0,0]], [0,pl.points[0,1]], 'r')\n",
    "#axs.plot(pl.points[0,0], pl.points[0,1], 'bo')\n",
    "\n",
    "plt.grid()\n",
    "plt.show()"
   ]
  },
  {
   "cell_type": "markdown",
   "metadata": {},
   "source": [
    "**Test with four layers and moon-shaped data:**"
   ]
  },
  {
   "cell_type": "code",
   "execution_count": 15,
   "metadata": {},
   "outputs": [
    {
     "name": "stdout",
     "output_type": "stream",
     "text": [
      "[[ 0.1532 -0.4506 -0.0394]\n",
      " [-0.2035 -0.2523  2.9368]\n",
      " [ 0.      0.      1.    ]]\n",
      "[[ 3.0240e-01  1.2650e-01 -4.3833e-01]\n",
      " [-5.7930e-01  2.8742e+00 -4.1123e-05]\n",
      " [ 0.0000e+00  0.0000e+00  1.0000e+00]]\n",
      "[ 0.4654 -2.8651  5.3234]\n"
     ]
    }
   ],
   "source": [
    "\n",
    "\n",
    "\n",
    "weights1 = np.array((\n",
    "    [ 0.0852, -1.2659],\n",
    "        [-0.1153,  0.1391]))\n",
    "\n",
    "weights2 = np.array((\n",
    "    [-1.4299, -0.2464],\n",
    "        [ 0.0667, -0.6984]))\n",
    "\n",
    "weights3 = np.array(([2.5572, 0.1177]))\n",
    "\n",
    "\n",
    "\n",
    "bias1 = np.array(([ 0.9058, -0.5062]))\n",
    "\n",
    "bias2 = np.array(([ 2.1827, -0.6007]))\n",
    "\n",
    "bias3 = np.array(([-2.1351]))\n",
    "# weights1 = np.array((\n",
    "#     [ 0.0269, -2.1142],\n",
    "#         [-1.1578, -0.8678]))\n",
    "\n",
    "# weights2 = np.array((\n",
    "#     [ 3.0911, -1.2621],\n",
    "#         [-1.8091, -0.8782]))\n",
    "\n",
    "# weights3 = np.array(([ 1.5716],\n",
    "#         [-0.2452]))\n",
    "\n",
    "\n",
    "\n",
    "# bias1 = np.array(([1.2557, 0.1670]))\n",
    "\n",
    "# bias2 = np.array(([ 0.0099, -1.7314]))\n",
    "\n",
    "# bias3 = np.array(([-4.0600]))\n",
    "\n",
    "weights = [weights1, weights2, weights3]\n",
    "bias = [bias1, bias2, bias3]\n",
    "\n",
    "W2 = organize_input(weights, bias)\n",
    "\n",
    "for w in W:\n",
    "    print(w)"
   ]
  },
  {
   "cell_type": "code",
   "execution_count": 16,
   "metadata": {},
   "outputs": [],
   "source": [
    "from sklearn import cluster, datasets\n",
    "from sklearn.datasets import make_moons\n",
    "n_samples = 1500\n",
    "X2, Y2 = datasets.make_moons(n_samples=n_samples, noise=0.05)"
   ]
  },
  {
   "cell_type": "code",
   "execution_count": 21,
   "metadata": {},
   "outputs": [
    {
     "name": "stdout",
     "output_type": "stream",
     "text": [
      "2500\n",
      "[ 0.         18.14018692  1.        ]\n",
      "0\n"
     ]
    },
    {
     "data": {
      "image/png": "[encoded data removed]",
      "text/plain": [
       "<Figure size 504x504 with 1 Axes>"
      ]
     },
     "metadata": {
      "needs_background": "light"
     },
     "output_type": "display_data"
    }
   ],
   "source": [
    "k = 50\n",
    "n = 5000\n",
    "I = [[-k, k], n]\n",
    "\n",
    "fig, axs = plt.subplots(1,1)\n",
    "axs.set_aspect('equal')\n",
    "\n",
    "plt.scatter(X2[:, 0][Y2==1],X2[:, 1][Y2==1], color='g')\n",
    "plt.scatter(X2[:, 0][Y2==0],X2[:, 1][Y2==0], color='orange')\n",
    "\n",
    "draw_sectors(axs,matrix_list=W2,   \n",
    "                colors_list=['y', 'b', 'r'],   \n",
    "                width_list=len(W)*[I],  \n",
    "                height_list=len(W)*[I],  \n",
    "                frame_shape=[[-2,3],[-2,3]],  \n",
    "                remove_dotted_list=[False, False, True])\n",
    "\n",
    "# draw_polyline(axs, W2, 0)\n",
    "\n",
    "plt.grid()\n",
    "plt.show()"
   ]
  },
  {
   "cell_type": "code",
   "execution_count": 18,
   "metadata": {},
   "outputs": [
    {
     "data": {
      "image/png": "[encoded data removed]",
      "text/plain": [
       "<Figure size 432x288 with 1 Axes>"
      ]
     },
     "metadata": {
      "needs_background": "light"
     },
     "output_type": "display_data"
    }
   ],
   "source": [
    "fig, axs = plt.subplots(1,1)\n",
    "axs.set_aspect('equal')\n",
    "\n",
    "#plt.scatter(x[:, 0][x[:,2]==1], x[:, 1][x[:,2]==1], color='g')\n",
    "#plt.scatter(x[:, 0][x[:,2]==0], x[:, 1][x[:,2]==0], color='orange')\n",
    "\n",
    "\n",
    "draw_polyline(axs, W2, 5, 1)\n",
    "\n",
    "a, b = 2, 2\n",
    "axs.plot([0, a], [0, 0], 'k')\n",
    "axs.plot([0, 0], [0, b], 'k')\n",
    "\n",
    "#axs.plot([0,pl.points[0,0]], [0,pl.points[0,1]], 'r')\n",
    "#axs.plot(pl.points[0,0], pl.points[0,1], 'bo')\n",
    "\n",
    "plt.grid()\n",
    "plt.show()"
   ]
  },
  {
   "cell_type": "code",
   "execution_count": null,
   "metadata": {},
   "outputs": [],
   "source": []
  }
 ],
 "metadata": {
  "kernelspec": {
   "display_name": "Python [conda env:cnn]",
   "language": "python",
   "name": "conda-env-cnn-py"
  },
  "language_info": {
   "codemirror_mode": {
    "name": "ipython",
    "version": 3
   },
   "file_extension": ".py",
   "mimetype": "text/x-python",
   "name": "python",
   "nbconvert_exporter": "python",
   "pygments_lexer": "ipython3",
   "version": "3.9.7"
  }
 },
 "nbformat": 4,
 "nbformat_minor": 4
}
